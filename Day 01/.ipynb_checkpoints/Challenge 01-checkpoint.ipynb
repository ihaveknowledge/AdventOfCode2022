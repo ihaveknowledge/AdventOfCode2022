{
 "cells": [
  {
   "cell_type": "markdown",
   "id": "762cda32-1504-43d6-b29e-9b3732b03cd1",
   "metadata": {},
   "source": [
    "# --- Day 1: Calorie Counting ---\n",
    "Santa's reindeer typically eat regular reindeer food, but they need a lot of __magical energy*__  to deliver presents on Christmas. For that, their favorite snack is a special type of _star_ fruit that only grows deep in the jungle. The Elves have brought you on their annual expedition to the grove where the fruit grows.\n",
    "\n",
    "To supply enough magical energy, the expedition needs to retrieve a minimum of _fifty stars_ by December 25th. Although the Elves assure you that the grove has plenty of fruit, you decide to grab any fruit you see along the way, just in case.\n",
    "\n",
    "Collect stars by solving puzzles. Two puzzles will be made available on each day in the Advent calendar; the second puzzle is unlocked when you complete the first. Each puzzle grants _one star_. Good luck!\n",
    "\n",
    "The jungle must be too overgrown and difficult to navigate in vehicles or access from the air; the Elves' expedition traditionally goes on foot. As your boats approach land, the Elves begin taking inventory of their supplies. One important consideration is food - in particular, the number of Calories each Elf is carrying (your puzzle input).\n",
    "\n",
    "The Elves take turns writing down the number of Calories contained by the various meals, snacks, rations, etc. that they've brought with them, one item per line. Each Elf separates their own inventory from the previous Elf's inventory (if any) by a blank line.\n",
    "\n",
    "For example, suppose the Elves finish writing their items' Calories and end up with the following list:   \n",
    "    \n",
    "1000   \n",
    "2000   \n",
    "3000   \n",
    "   \n",
    "4000   \n",
    "   \n",
    "5000   \n",
    "6000   \n",
    "   \n",
    "7000   \n",
    "8000   \n",
    "9000   \n",
    "   \n",
    "10000   "
   ]
  },
  {
   "cell_type": "markdown",
   "id": "df719d69-0c84-408c-9821-e3f9840de1fc",
   "metadata": {},
   "source": [
    "** https://adventofcode.com/2018/day/25"
   ]
  },
  {
   "cell_type": "markdown",
   "id": "c2094ad3-3329-4178-a913-c985b4126489",
   "metadata": {},
   "source": [
    "This list represents the Calories of the food carried by five Elves:\n",
    "\n",
    "The first Elf is carrying food with 1000, 2000, and 3000 Calories, a total of 6000 Calories.\n",
    "The second Elf is carrying one food item with 4000 Calories.\n",
    "The third Elf is carrying food with 5000 and 6000 Calories, a total of 11000 Calories.\n",
    "The fourth Elf is carrying food with 7000, 8000, and 9000 Calories, a total of 24000 Calories.\n",
    "The fifth Elf is carrying one food item with 10000 Calories.\n",
    "In case the Elves get hungry and need extra snacks, they need to know which Elf to ask: they'd like to know how many Calories are being carried by the Elf carrying the most Calories. In the example above, this is 24000 (carried by the fourth Elf).\n",
    "\n",
    "Find the Elf carrying the most Calories. __How many total Calories is that Elf carrying?__"
   ]
  },
  {
   "cell_type": "markdown",
   "id": "9bcffd52-cf1c-4cd5-b09e-a026bdd3e5f8",
   "metadata": {},
   "source": [
    "## Read in test data"
   ]
  },
  {
   "cell_type": "code",
   "execution_count": 5,
   "id": "4c843fd1-1b7c-4147-8001-27cc2a133935",
   "metadata": {},
   "outputs": [],
   "source": [
    "# Read in data\n",
    "d = \"\"\"1000\n",
    "2000\n",
    "3000\n",
    "\n",
    "4000\n",
    "\n",
    "5000\n",
    "6000\n",
    "\n",
    "7000\n",
    "8000\n",
    "9000\n",
    "\n",
    "10000\"\"\""
   ]
  },
  {
   "cell_type": "markdown",
   "id": "a22f0ee1-852f-4926-853f-1ab6546b1a74",
   "metadata": {},
   "source": [
    "## Create a function to split the string and calculate calories per Elf"
   ]
  },
  {
   "cell_type": "code",
   "execution_count": 6,
   "id": "35664704-c6ef-4334-89e0-49f928731067",
   "metadata": {},
   "outputs": [],
   "source": [
    "def calculateElves(txt):\n",
    "    elf = []\n",
    "    x = 0\n",
    "    \n",
    "    \"\"\"\n",
    "    This function takes a text file and seperates the results into elves based on a line with no data\n",
    "    \"\"\"\n",
    "    \n",
    "    #loop through array\n",
    "    for item in txt.split(\"\\n\"):\n",
    "        #Logic to add next line\n",
    "        if item != \"\":\n",
    "            x += int(item)\n",
    "        #Logic to break to next elf, \n",
    "        # Append array with Elf value and \n",
    "        #  Reset the calorie count to zero\n",
    "        else:\n",
    "            elf.append(x)\n",
    "            x = 0\n",
    "\n",
    "    #return the elf array\n",
    "    return elf"
   ]
  },
  {
   "cell_type": "markdown",
   "id": "81a59365-c274-41e9-80e1-dc8a48076287",
   "metadata": {},
   "source": [
    "## Apply test data"
   ]
  },
  {
   "cell_type": "code",
   "execution_count": 7,
   "id": "662b4d72-5792-4e5c-b7c1-2b87d402b346",
   "metadata": {},
   "outputs": [
    {
     "data": {
      "text/plain": [
       "[6000, 4000, 11000, 24000]"
      ]
     },
     "execution_count": 7,
     "metadata": {},
     "output_type": "execute_result"
    }
   ],
   "source": [
    "calculateElves(d)"
   ]
  },
  {
   "cell_type": "code",
   "execution_count": 8,
   "id": "c7c8b532-0071-4edf-ac6b-51f6650b11bd",
   "metadata": {},
   "outputs": [
    {
     "data": {
      "text/plain": [
       "24000"
      ]
     },
     "execution_count": 8,
     "metadata": {},
     "output_type": "execute_result"
    }
   ],
   "source": [
    "#calculateElves(d)\n",
    "max(calculateElves(d))"
   ]
  },
  {
   "cell_type": "markdown",
   "id": "0d795e9e-728d-4ed3-8b32-e6adc6994fb7",
   "metadata": {},
   "source": [
    "## Read in actual text data"
   ]
  },
  {
   "cell_type": "code",
   "execution_count": 9,
   "id": "56dcb59c-d0cc-4538-a4d3-b0bbd31f4d68",
   "metadata": {},
   "outputs": [],
   "source": [
    "file = \"challenge 01 input.txt\"\n",
    "with open(file) as f:\n",
    "    challenge1Data = f.read()"
   ]
  },
  {
   "cell_type": "markdown",
   "id": "25dcbd2b-be19-4fa9-90a6-08fb2bb412c2",
   "metadata": {},
   "source": [
    "## Apply function to new data"
   ]
  },
  {
   "cell_type": "code",
   "execution_count": 11,
   "id": "d3349897-0474-42ee-a541-a4333d625fce",
   "metadata": {},
   "outputs": [
    {
     "data": {
      "text/plain": [
       "71934"
      ]
     },
     "execution_count": 11,
     "metadata": {},
     "output_type": "execute_result"
    }
   ],
   "source": [
    "max(calculateElves(challenge1Data))"
   ]
  },
  {
   "cell_type": "markdown",
   "id": "252d9ee4-99c4-477b-8122-19591975e8e9",
   "metadata": {},
   "source": [
    "# --- Part Two ---"
   ]
  },
  {
   "cell_type": "markdown",
   "id": "340c1bea-d233-499c-9041-b401b31b3c73",
   "metadata": {},
   "source": [
    "By the time you calculate the answer to the Elves' question, they've already realized that the Elf carrying the most Calories of food might eventually __run out of snacks__.\n",
    "\n",
    "To avoid this unacceptable situation, the Elves would instead like to know the total Calories carried by the __top three__ Elves carrying the most Calories. That way, even if one of those Elves runs out of snacks, they still have two backups.\n",
    "\n",
    "In the example above, the top three Elves are the fourth Elf (with 24000 Calories), then the third Elf (with 11000 Calories), then the fifth Elf (with 10000 Calories). The sum of the Calories carried by these three elves is 45000.\n",
    "\n",
    "Find the top three Elves carrying the most Calories. __How many Calories are those Elves carrying in total?__"
   ]
  },
  {
   "cell_type": "code",
   "execution_count": 23,
   "id": "2a817de3-6235-47a8-9a3d-6bd812514c48",
   "metadata": {},
   "outputs": [],
   "source": [
    "elves = calculateElves(challenge1Data)"
   ]
  },
  {
   "cell_type": "code",
   "execution_count": 24,
   "id": "ddbfb158-88e3-4896-bf3c-c8e3fa5e6b9d",
   "metadata": {},
   "outputs": [],
   "source": [
    "#Sort array\n",
    "elves.sort()"
   ]
  },
  {
   "cell_type": "code",
   "execution_count": 15,
   "id": "327360ce-fbd0-4f05-b098-5370bb18b168",
   "metadata": {},
   "outputs": [
    {
     "data": {
      "text/plain": [
       "211447"
      ]
     },
     "execution_count": 15,
     "metadata": {},
     "output_type": "execute_result"
    }
   ],
   "source": [
    "#Sum up the last three (biggest numbers)\n",
    "sum(elves[-3:])"
   ]
  },
  {
   "cell_type": "markdown",
   "id": "25649da4-fbc1-4555-88be-560bad81d471",
   "metadata": {},
   "source": [
    "## Alternative way using nlargest"
   ]
  },
  {
   "cell_type": "code",
   "execution_count": 26,
   "id": "f1c88eac-9f75-4daf-b0a3-c0c0ff527af3",
   "metadata": {},
   "outputs": [],
   "source": [
    "from heapq import nlargest"
   ]
  },
  {
   "cell_type": "code",
   "execution_count": 29,
   "id": "31e26ab0-9a7f-453b-9098-953091fc4712",
   "metadata": {},
   "outputs": [
    {
     "data": {
      "text/plain": [
       "[71934, 69849, 69664]"
      ]
     },
     "execution_count": 29,
     "metadata": {},
     "output_type": "execute_result"
    }
   ],
   "source": [
    "nlargest(3, elves)"
   ]
  }
 ],
 "metadata": {
  "kernelspec": {
   "display_name": "Python 3",
   "language": "python",
   "name": "python3"
  },
  "language_info": {
   "codemirror_mode": {
    "name": "ipython",
    "version": 3
   },
   "file_extension": ".py",
   "mimetype": "text/x-python",
   "name": "python",
   "nbconvert_exporter": "python",
   "pygments_lexer": "ipython3",
   "version": "3.9.1"
  }
 },
 "nbformat": 4,
 "nbformat_minor": 5
}
