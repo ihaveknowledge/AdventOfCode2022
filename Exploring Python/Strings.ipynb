{
 "cells": [
  {
   "cell_type": "markdown",
   "id": "1fa69507-5c20-4caf-9afd-665c8046a399",
   "metadata": {},
   "source": [
    "# Working wth strings\n",
    "\n",
    "Here I experiment with concepts for the Advent of code    \n",
    "    \n",
    "+ Splitting string by position (Day 3)   \n",
    "+ Generating the alphabet (Day 3)    \n",
    "+ Split a string into an array (Day 3)   "
   ]
  },
  {
   "cell_type": "code",
   "execution_count": 33,
   "id": "e978702e-d7cc-4160-a5a5-9101728efd6d",
   "metadata": {},
   "outputs": [
    {
     "data": {
      "text/plain": [
       "'ahuwmskj'"
      ]
     },
     "execution_count": 33,
     "metadata": {},
     "output_type": "execute_result"
    }
   ],
   "source": [
    "# String split\n",
    "s = \"ahuwmskj\"\n",
    "\n",
    "#Can I cut the string in half?\n",
    "s[ : len(s)]"
   ]
  },
  {
   "cell_type": "code",
   "execution_count": 16,
   "id": "9e818ac1-4a98-4f96-93ed-b46d4bcdefcb",
   "metadata": {},
   "outputs": [
    {
     "name": "stdout",
     "output_type": "stream",
     "text": [
      "abcdefghijklmnopqrstuvwxyzABCDEFGHIJKLMNOPQRSTUVWXYZ\n"
     ]
    }
   ],
   "source": [
    "# Generating the alphabet\n",
    "import string\n",
    "print(string.ascii_lowercase + string.ascii_uppercase)"
   ]
  },
  {
   "cell_type": "code",
   "execution_count": 29,
   "id": "22e88012-b0f4-4d82-8fed-1129c657ea1b",
   "metadata": {},
   "outputs": [
    {
     "data": {
      "text/plain": [
       "19"
      ]
     },
     "execution_count": 29,
     "metadata": {},
     "output_type": "execute_result"
    }
   ],
   "source": [
    "# Split string into array\n",
    "letters = list(string.ascii_lowercase)\n",
    "\n",
    "#find S (19th letter of the alphabet)\n",
    "letters.index('s') + 1"
   ]
  },
  {
   "cell_type": "markdown",
   "id": "91e522b7-700c-4fc0-97ce-9e119484f437",
   "metadata": {},
   "source": [
    "# Regex\n",
    "+ Get digits from strings   "
   ]
  },
  {
   "cell_type": "code",
   "execution_count": 1,
   "id": "52093a3a-67a4-47e5-862a-4185f300da29",
   "metadata": {},
   "outputs": [],
   "source": [
    "import re"
   ]
  },
  {
   "cell_type": "code",
   "execution_count": 2,
   "id": "0c06ff08-291a-4a0d-b250-c61259665133",
   "metadata": {},
   "outputs": [],
   "source": [
    "def getNumbers(str):\n",
    "    array = re.findall(r'[0-9]+', str)\n",
    "    return array"
   ]
  },
  {
   "cell_type": "code",
   "execution_count": 4,
   "id": "79e1add9-6dfe-482a-8da4-1060d198715a",
   "metadata": {},
   "outputs": [
    {
     "data": {
      "text/plain": [
       "['3', '2']"
      ]
     },
     "execution_count": 4,
     "metadata": {},
     "output_type": "execute_result"
    }
   ],
   "source": [
    "getNumbers(\"a3r2\")"
   ]
  }
 ],
 "metadata": {
  "kernelspec": {
   "display_name": "Python 3",
   "language": "python",
   "name": "python3"
  },
  "language_info": {
   "codemirror_mode": {
    "name": "ipython",
    "version": 3
   },
   "file_extension": ".py",
   "mimetype": "text/x-python",
   "name": "python",
   "nbconvert_exporter": "python",
   "pygments_lexer": "ipython3",
   "version": "3.9.1"
  }
 },
 "nbformat": 4,
 "nbformat_minor": 5
}
