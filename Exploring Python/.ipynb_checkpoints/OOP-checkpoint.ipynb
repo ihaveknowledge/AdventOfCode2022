{
 "cells": [
  {
   "cell_type": "markdown",
   "id": "57f88e86-8ca2-4d9e-8fae-2ab47052b32d",
   "metadata": {},
   "source": [
    "# --- Object Orientated Python ---\n",
    "\n",
    "I am going to use OOP in the Advent of Code challenges and this is where I can practice using it.   \n",
    "The first time I used this in Advent of Code was on __Day 3!__"
   ]
  },
  {
   "cell_type": "code",
   "execution_count": 64,
   "id": "fcf8df13-fe81-4b8e-b3ad-00cc94ec2983",
   "metadata": {},
   "outputs": [],
   "source": [
    "class Animal:\n",
    "    def __init__(self, species, name):\n",
    "        self.species = species\n",
    "        self.name = name\n",
    "        \n",
    "    \n",
    "    def speak(self):\n",
    "        if self.species == \"Dog\":\n",
    "            print(self.name + \" says 'WOOF'\")\n",
    "        elif self.species == \"Cat\":\n",
    "            print(self.name + \" says 'Meow'\")\n",
    "        else:\n",
    "            print(self.name + \" looks at you quizzically\")\n",
    "        "
   ]
  },
  {
   "cell_type": "code",
   "execution_count": 65,
   "id": "f5e86beb-e06e-43b1-a7c8-f17a145a347e",
   "metadata": {},
   "outputs": [],
   "source": [
    "animals = []\n",
    "animals.append(Animal(\"Dog\", \"Red\"))\n",
    "animals.append(Animal(\"Cat\", \"Lucy\"))\n",
    "animals.append(Animal(\"Parrot\", \"Kiki\"))"
   ]
  },
  {
   "cell_type": "code",
   "execution_count": 66,
   "id": "9a60a4df-6bba-49bc-8d5f-3357958fc2e8",
   "metadata": {},
   "outputs": [
    {
     "name": "stdout",
     "output_type": "stream",
     "text": [
      "Red says 'WOOF'\n",
      "Lucy says 'Meow'\n",
      "Kiki looks at you quizzically\n"
     ]
    }
   ],
   "source": [
    "for animal in animals:\n",
    "    animal.speak()"
   ]
  },
  {
   "cell_type": "markdown",
   "id": "7eca2929-838f-4c7d-b53e-cdc800e4c7d0",
   "metadata": {},
   "source": [
    "## Inheritance\n",
    "The Speaking Animal __inherits__ the contrsuctor from _Animal_ as well as the _methods_.    \n",
    "I have added a call within the constructor to call the speak method which uses the method from the __parent class__"
   ]
  },
  {
   "cell_type": "code",
   "execution_count": 67,
   "id": "5fc73fb7-aa09-4761-a795-f26b48d3adda",
   "metadata": {},
   "outputs": [],
   "source": [
    "class SpeakingAnimal(Animal):\n",
    "    def __init__(self, species, name):\n",
    "        Animal.__init__(self, species, name)\n",
    "        \n",
    "        self.speak()"
   ]
  },
  {
   "cell_type": "code",
   "execution_count": 68,
   "id": "80698cfd-9f93-4469-9cc3-4097ffb679d7",
   "metadata": {},
   "outputs": [
    {
     "name": "stdout",
     "output_type": "stream",
     "text": [
      "John says 'WOOF'\n"
     ]
    }
   ],
   "source": [
    "sam = SpeakingAnimal(\"Dog\", \"John\")"
   ]
  },
  {
   "cell_type": "code",
   "execution_count": 69,
   "id": "657da53d-03fb-47e4-836a-155f31d7a2ab",
   "metadata": {},
   "outputs": [
    {
     "name": "stdout",
     "output_type": "stream",
     "text": [
      "Polly looks at you quizzically\n"
     ]
    }
   ],
   "source": [
    "polly = SpeakingAnimal(\"Parrot\", \"Polly\")"
   ]
  }
 ],
 "metadata": {
  "kernelspec": {
   "display_name": "Python 3",
   "language": "python",
   "name": "python3"
  },
  "language_info": {
   "codemirror_mode": {
    "name": "ipython",
    "version": 3
   },
   "file_extension": ".py",
   "mimetype": "text/x-python",
   "name": "python",
   "nbconvert_exporter": "python",
   "pygments_lexer": "ipython3",
   "version": "3.9.1"
  }
 },
 "nbformat": 4,
 "nbformat_minor": 5
}
