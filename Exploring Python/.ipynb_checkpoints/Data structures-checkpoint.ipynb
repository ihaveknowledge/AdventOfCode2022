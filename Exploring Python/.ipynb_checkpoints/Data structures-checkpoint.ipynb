{
 "cells": [
  {
   "cell_type": "markdown",
   "id": "a683a744-0ea2-4957-83eb-b1cd237862bc",
   "metadata": {},
   "source": [
    "# Arrays\n",
    "\n",
    "+ Append an item   \n",
    "+ Remove item   "
   ]
  },
  {
   "cell_type": "code",
   "execution_count": 10,
   "id": "9bc8941c-3d7d-4dee-99a1-c0f75ee09f50",
   "metadata": {},
   "outputs": [],
   "source": [
    "a = [1, 3, 5]"
   ]
  },
  {
   "cell_type": "code",
   "execution_count": 11,
   "id": "346a3852-9e1f-4a64-91cb-5c449cd9d3ff",
   "metadata": {},
   "outputs": [
    {
     "name": "stdout",
     "output_type": "stream",
     "text": [
      "[1, 3, 5, 6]\n"
     ]
    }
   ],
   "source": [
    "a.append(6)\n",
    "print(a)"
   ]
  },
  {
   "cell_type": "code",
   "execution_count": 14,
   "id": "fa5ebb36-6755-4c73-827f-5f6b5bb5104f",
   "metadata": {},
   "outputs": [
    {
     "name": "stdout",
     "output_type": "stream",
     "text": [
      "[1, 3]\n"
     ]
    }
   ],
   "source": [
    "a.pop(-1)\n",
    "print(a)"
   ]
  },
  {
   "cell_type": "code",
   "execution_count": 15,
   "id": "3d81dcfd-94ed-4c11-b88c-ff015cafe99c",
   "metadata": {},
   "outputs": [
    {
     "data": {
      "text/plain": [
       "3"
      ]
     },
     "execution_count": 15,
     "metadata": {},
     "output_type": "execute_result"
    }
   ],
   "source": [
    "a[-1]"
   ]
  }
 ],
 "metadata": {
  "kernelspec": {
   "display_name": "Python 3",
   "language": "python",
   "name": "python3"
  },
  "language_info": {
   "codemirror_mode": {
    "name": "ipython",
    "version": 3
   },
   "file_extension": ".py",
   "mimetype": "text/x-python",
   "name": "python",
   "nbconvert_exporter": "python",
   "pygments_lexer": "ipython3",
   "version": "3.9.1"
  }
 },
 "nbformat": 4,
 "nbformat_minor": 5
}
