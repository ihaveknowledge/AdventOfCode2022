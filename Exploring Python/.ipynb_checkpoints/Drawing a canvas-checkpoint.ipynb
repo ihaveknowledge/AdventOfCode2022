{
 "cells": [
  {
   "cell_type": "markdown",
   "id": "21969465-085e-4f10-b642-4d3d319a7faf",
   "metadata": {},
   "source": [
    "# Drawing in Jupyter with Python"
   ]
  },
  {
   "cell_type": "code",
   "execution_count": null,
   "id": "e5b6b7b6-1d97-42ee-9a59-7bf745168292",
   "metadata": {},
   "outputs": [],
   "source": [
    "from ipycanvas import Canvas"
   ]
  },
  {
   "cell_type": "code",
   "execution_count": 23,
   "id": "989c215d-21a7-4ab8-babf-32a457e6d8c4",
   "metadata": {},
   "outputs": [],
   "source": [
    "height = 200\n",
    "width = 200\n",
    "buffer = 5\n",
    "canvasW = width - 2* buffer\n",
    "canvasH = height - 2* buffer\n",
    "number = 5\n",
    "boxSize = canvasH / number"
   ]
  },
  {
   "cell_type": "code",
   "execution_count": 50,
   "id": "861cdaca-437f-4bcf-b60e-a5d36c3d19e1",
   "metadata": {},
   "outputs": [],
   "source": [
    "canvas = Canvas(size=(height, width))\n",
    "canvas.fill_style = 'lime'\n",
    "canvas.stroke_style = 'green'"
   ]
  },
  {
   "cell_type": "code",
   "execution_count": 51,
   "id": "e8559034-ca3f-4bae-848d-f73fd9a009bd",
   "metadata": {},
   "outputs": [],
   "source": [
    "class Box:\n",
    "    def __init__(self, i, j):\n",
    "        self.x = buffer + boxSize*i\n",
    "        self.y = boxSize*j, boxSize\n",
    "    \n",
    "    def drawBox(self):\n",
    "        canvas.stroke_rect(self.x, self.y, boxSize)\n",
    "\n",
    "        "
   ]
  },
  {
   "cell_type": "code",
   "execution_count": 55,
   "id": "2227b6e0-1721-422e-ac2e-0133017b5ca4",
   "metadata": {},
   "outputs": [
    {
     "data": {
      "application/vnd.jupyter.widget-view+json": {
       "model_id": "8c0ea3e38ebd4f77ba52b397c1e6c916",
       "version_major": 2,
       "version_minor": 0
      },
      "text/plain": [
       "Canvas()"
      ]
     },
     "execution_count": 55,
     "metadata": {},
     "output_type": "execute_result"
    }
   ],
   "source": [
    "canvas = Canvas(size=(height, width))\n",
    "canvas.fill_style = 'lime'\n",
    "canvas.stroke_style = 'green'\n",
    "\n",
    "for i in range(5):\n",
    "    for j in range(5):\n",
    "        canvas.stroke_rect(buffer + boxSize*i, boxSize * j, boxSize, boxSize)\n",
    "\n",
    "canvas"
   ]
  },
  {
   "cell_type": "code",
   "execution_count": 47,
   "id": "0a570305-e5f3-4bff-8815-4c3604e7693e",
   "metadata": {},
   "outputs": [],
   "source": [
    "\n",
    "    "
   ]
  }
 ],
 "metadata": {
  "kernelspec": {
   "display_name": "Python 3",
   "language": "python",
   "name": "python3"
  },
  "language_info": {
   "codemirror_mode": {
    "name": "ipython",
    "version": 3
   },
   "file_extension": ".py",
   "mimetype": "text/x-python",
   "name": "python",
   "nbconvert_exporter": "python",
   "pygments_lexer": "ipython3",
   "version": "3.9.1"
  }
 },
 "nbformat": 4,
 "nbformat_minor": 5
}
