{
 "cells": [
  {
   "cell_type": "markdown",
   "id": "c81d7c7c-6083-4716-bbd8-376c5187f396",
   "metadata": {},
   "source": [
    "# Working with non-decimal based numbers"
   ]
  },
  {
   "cell_type": "markdown",
   "id": "fea028cb-f239-496b-b1b9-e69f63d498e1",
   "metadata": {},
   "source": [
    "## Binary numbers\n",
    "These use the values 0 to 1   \n",
    "Therefore 10 is the number 2 in decimal"
   ]
  },
  {
   "cell_type": "code",
   "execution_count": 11,
   "id": "0dc35248-b199-4f8e-9755-ab6a3eabfbf4",
   "metadata": {},
   "outputs": [
    {
     "data": {
      "text/plain": [
       "2"
      ]
     },
     "execution_count": 11,
     "metadata": {},
     "output_type": "execute_result"
    }
   ],
   "source": [
    "int(\"10\", 2)"
   ]
  },
  {
   "cell_type": "code",
   "execution_count": 14,
   "id": "39028019-99c5-43b0-9765-a8a7421a035d",
   "metadata": {},
   "outputs": [
    {
     "data": {
      "text/plain": [
       "203"
      ]
     },
     "execution_count": 14,
     "metadata": {},
     "output_type": "execute_result"
    }
   ],
   "source": [
    "int(\"11001011\", 2)"
   ]
  },
  {
   "cell_type": "markdown",
   "id": "bbb363cd-17d4-4639-81bd-65e0b6e31e09",
   "metadata": {},
   "source": [
    "## Hexadecimal\n",
    "\n",
    "These use the values 0 to F   \n",
    "Thefore 10 is the number 16 in decimal"
   ]
  },
  {
   "cell_type": "code",
   "execution_count": 12,
   "id": "a07e29c0-0cde-4f07-98b2-5a2696a72b15",
   "metadata": {},
   "outputs": [
    {
     "data": {
      "text/plain": [
       "16"
      ]
     },
     "execution_count": 12,
     "metadata": {},
     "output_type": "execute_result"
    }
   ],
   "source": [
    "int(\"10\", 16)"
   ]
  },
  {
   "cell_type": "markdown",
   "id": "76f80e00-47c4-434b-80d3-0def4048899b",
   "metadata": {},
   "source": [
    "The binary \"1001011\" is equal to the hexadecimal number \"CB\""
   ]
  },
  {
   "cell_type": "code",
   "execution_count": 19,
   "id": "ca24700b-5861-4c4c-ad10-9850d93116c5",
   "metadata": {},
   "outputs": [
    {
     "data": {
      "text/plain": [
       "203"
      ]
     },
     "execution_count": 19,
     "metadata": {},
     "output_type": "execute_result"
    }
   ],
   "source": [
    "int(\"CB\", 16)"
   ]
  }
 ],
 "metadata": {
  "kernelspec": {
   "display_name": "Python 3",
   "language": "python",
   "name": "python3"
  },
  "language_info": {
   "codemirror_mode": {
    "name": "ipython",
    "version": 3
   },
   "file_extension": ".py",
   "mimetype": "text/x-python",
   "name": "python",
   "nbconvert_exporter": "python",
   "pygments_lexer": "ipython3",
   "version": "3.9.1"
  }
 },
 "nbformat": 4,
 "nbformat_minor": 5
}
