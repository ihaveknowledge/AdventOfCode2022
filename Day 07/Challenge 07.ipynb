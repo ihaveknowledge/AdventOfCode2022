{
 "cells": [
  {
   "cell_type": "markdown",
   "id": "a3f3c543-4510-4d19-9cd6-ce783a3b0e52",
   "metadata": {
    "tags": []
   },
   "source": [
    "# --- Day 7: No Space Left On Device ---\n",
    "You can hear birds chirping and raindrops hitting leaves as the expedition proceeds. Occasionally, you can even hear much louder sounds in the distance; how big do the animals get out here, anyway?\n",
    "\n",
    "The device the Elves gave you has problems with more than just its communication system. You try to run a system update:\n",
    "\n",
    "`$ system-update --please --pretty-please-with-sugar-on-top`    \n",
    "`Error: No space left on device`    \n",
    "\n",
    "Perhaps you can delete some files to make space for the update?\n",
    "\n",
    "You browse around the filesystem to assess the situation and save the resulting terminal output (your puzzle input). For example:\n",
    "\n",
    "`$ cd /`   \n",
    "`$ ls`   \n",
    "`dir a`   \n",
    "`14848514 b.txt`   \n",
    "`8504156 c.dat`   \n",
    "`dir d`   \n",
    "`$ cd a`   \n",
    "`$ ls`    \n",
    "`dir e`   \n",
    "`29116 f`    \n",
    "`2557 g`   \n",
    "`62596 h.lst`   \n",
    "`$ cd e`   \n",
    "`$ ls`   \n",
    "`584 i`   \n",
    "`$ cd ..`   \n",
    "`$ cd ..`   \n",
    "`$ cd d`   \n",
    "`$ ls`   \n",
    "`4060174 j`   \n",
    "`8033020 d.log`   \n",
    "`5626152 d.ext`   \n",
    "`7214296 k`   \n",
    "\n",
    "\n",
    "The filesystem consists of a tree of files (plain data) and directories (which can contain other directories or files). The outermost directory is called /. You can navigate around the filesystem, moving into or out of directories and listing the contents of the directory you're currently in.\n",
    "\n",
    "Within the terminal output, lines that begin with `$` are __commands you executed__, very much like some modern computers:\n",
    "\n",
    "- `cd` means __change directory__. This changes which directory is the current directory, but the specific result depends on the argument:   \n",
    "    + `cd x` moves in one level: it looks in the current directory for the directory named x and makes it the current directory.   \n",
    "    + `cd ..` moves out one level: it finds the directory that contains the current directory, then makes that directory the current directory.   \n",
    "    + `cd /` switches the current directory to the outermost directory, /.   \n",
    "\n",
    "- `ls` means __list__. It prints out all of the files and directories immediately contained by the current directory:   \n",
    "    + `123 abc` means that the current directory contains a file named `abc` with size `123`.    \n",
    "    + `dir xyz` means that the current directory contains a directory named `xyz`.   \n",
    "    \n",
    "Given the commands and output in the example above, you can determine that the filesystem looks visually like this:\n",
    "\n",
    "`- / (dir)`   \n",
    "`  - a (dir)`   \n",
    "`    - e (dir)`   \n",
    "`      - i (file, size=584)`   \n",
    "`    - f (file, size=29116)`   \n",
    "`    - g (file, size=2557)`   \n",
    "`    - h.lst (file, size=62596)`   \n",
    "`  - b.txt (file, size=14848514)`   \n",
    "`  - c.dat (file, size=8504156)`   \n",
    "`  - d (dir)`   \n",
    "`    - j (file, size=4060174)`   \n",
    "`    - d.log (file, size=8033020)`   \n",
    "`    - d.ext (file, size=5626152)`   \n",
    "`    - k (file, size=7214296`   \n",
    "    \n",
    "Here, there are four directories: / (the outermost directory), a and d (which are in /), and e (which is in a). These directories also contain files of various sizes.\n",
    "\n",
    "Since the disk is full, your first step should probably be to find directories that are good candidates for deletion. To do this, you need to determine the __total size__ of each directory. The total size of a directory is the sum of the sizes of the files it contains, directly or indirectly. (Directories themselves do not count as having any intrinsic size.)\n",
    "\n",
    "The total sizes of the directories above can be found as follows:\n",
    "\n",
    "+ The total size of directory `e` is __584__ because it contains a single file i of size 584 and no other directories.   \n",
    "+ The directory a has total size __94853__ because it contains files `f` (size 29116), `g` (size 2557), and `h.lst` (size 62596), plus file `i` indirectly (`a` contains `e` which contains `i`).   \n",
    "+ Directory `d` has total size __24933642___.    \n",
    "+ As the outermost directory, `/` contains every file. Its total size is __48381165__, the sum of the size of every file.   \n",
    "\n",
    "To begin, find all of the directories with a total size of __at most 100000__, then calculate the sum of their total sizes. In the example above, these directories are a and e; the sum of their total sizes is __95437__ (94853 + 584). (As in this example, this process can count files more than once!)\n",
    "\n",
    "Find all of the directories with a total size of at most 100000. __What is the sum of the total sizes of those directories?__"
   ]
  },
  {
   "cell_type": "code",
   "execution_count": 298,
   "id": "1a994151-855c-4f1b-a5ad-0965ce1ff191",
   "metadata": {},
   "outputs": [],
   "source": [
    "class Folders:\n",
    "    def __init__(self, name, parent):\n",
    "        self.name = name\n",
    "        self.parent = parent\n",
    "        self.files = []\n",
    "        self.dirs = []\n",
    "        self.size = 0\n",
    "    \n",
    "    def addFile(self, file):\n",
    "        \"\"\"\n",
    "        This function creates a new file (dictionary) and stores in an array\n",
    "        \"\"\"\n",
    "        size, name = file.split(\" \")\n",
    "        fileDict = {\"size\" : int(size), \"name\" : name}.copy()\n",
    "        self.files.append(fileDict)\n",
    "    \n",
    "    def addDirectory(self, dir, parent):\n",
    "        \"\"\"\n",
    "        This function creates a new directory within the current directory, appended to an array\n",
    "        \"\"\"\n",
    "        dir = dir.split(\" \")[1]\n",
    "        self.dirs.append(Folders(dir, parent))\n",
    "    \n",
    "    def calculateSize(self):\n",
    "        \"\"\"\n",
    "        This function calculates the size of the directory. Including all files and directories held within\n",
    "        \"\"\"\n",
    "        size = 0\n",
    "        \n",
    "        #Add all files in dir\n",
    "        if len(self.files) != 0:\n",
    "            #print(\"Adding files\")\n",
    "            for file in self.files:\n",
    "                size += file[\"size\"]\n",
    "                #print(str(file[\"size\"]))\n",
    "        \n",
    "        #Add all dirs in directory\n",
    "        if len(self.dirs) != 0:\n",
    "            #print(\"Adding dirs\")\n",
    "            for dir in self.dirs:\n",
    "                size += dir.size\n",
    "                #print(str(dir.size) + \" \" + dir.name)\n",
    "        \n",
    "        self.size = size\n",
    "    \n",
    "    def listAll(self):\n",
    "        print(\"I am here: \" + self.name)\n",
    "        print(\"There are \" + str(len(self.files)) + \" files here\" )\n",
    "        print(\"They are called: \")\n",
    "        for file in self.files:\n",
    "            print(file)\n",
    "\n",
    "        print(\"There are \" + str(len(self.dirs)) + \" dirs here\" )\n",
    "        print(\"They are called: \")\n",
    "        for dir in self.dirs:\n",
    "            print(dir.name)\n",
    "\n",
    "def moveUp(obj):\n",
    "    return obj.parent\n",
    "\n",
    "def moveDown(obj, targetName):\n",
    "    for dir in obj.dirs:\n",
    "        if dir.name == targetName:\n",
    "            return dir"
   ]
  },
  {
   "cell_type": "code",
   "execution_count": 299,
   "id": "73e1bd40-32a4-4be6-9227-324c8ff0d594",
   "metadata": {},
   "outputs": [],
   "source": [
    "fileStructure = Folders(\"root\", \"none\")\n",
    "current = fileStructure"
   ]
  },
  {
   "cell_type": "markdown",
   "id": "3249c531-4b12-4d45-b8d6-f9b2981006e7",
   "metadata": {},
   "source": [
    "# Actions we can take through functions   \n",
    "\n",
    "+ __Create:__    \n",
    "    + __Add file__ : current.addFile(\"size name\")    \n",
    "    + __Add dir__ : current.addDirectory(\"dir name\", parent)   \n",
    "\n",
    "----\n",
    "    \n",
    "+ __Move:__\n",
    "    + __Move down:__ : moveDown(current, newDirName) #Moves to the new directory\n",
    "    + __Move up:__ : moveUp(current) #Moves to the parent directory object    \n",
    "\n",
    "----\n",
    "\n",
    "+ __List files:__   \n",
    "    + __Where am I__ : current.listAll() #returns where I am and the files / folders in current directory"
   ]
  },
  {
   "cell_type": "markdown",
   "id": "be7a20b1-fc23-4e64-8422-38a6c389b07c",
   "metadata": {},
   "source": [
    "### Example code to add files and directories"
   ]
  },
  {
   "cell_type": "code",
   "execution_count": 300,
   "id": "72e4a553-a397-416b-99aa-7019918e971a",
   "metadata": {},
   "outputs": [],
   "source": [
    "#Adding files\n",
    "current.addFile(\"14848514 b.txt\")\n",
    "current.addFile(\"8504156 c.dat\")\n",
    "\n",
    "#adding directories\n",
    "current.addDirectory(\"dir a\", current)\n",
    "current.addDirectory(\"dir d\", current)"
   ]
  },
  {
   "cell_type": "code",
   "execution_count": 302,
   "id": "20b42646-838d-4222-9a03-2818d94ff93f",
   "metadata": {},
   "outputs": [],
   "source": [
    "d = \"\"\"$ cd /\n",
    "$ ls\n",
    "dir a\n",
    "14848514 b.txt\n",
    "8504156 c.dat\n",
    "dir d\n",
    "$ cd a\n",
    "$ ls\n",
    "dir e\n",
    "29116 f\n",
    "2557 g\n",
    "62596 h.lst\n",
    "$ cd e\n",
    "$ ls\n",
    "584 i\n",
    "$ cd ..\n",
    "$ cd ..\n",
    "$ cd d\n",
    "$ ls\n",
    "4060174 j\n",
    "8033020 d.log\n",
    "5626152 d.ext\n",
    "7214296 k\"\"\""
   ]
  },
  {
   "cell_type": "markdown",
   "id": "7a8fd9ad-9ea4-4f5e-a5a6-8194f377c553",
   "metadata": {},
   "source": [
    "# Create the fileStructure object"
   ]
  },
  {
   "cell_type": "code",
   "execution_count": 303,
   "id": "4bb92e53-0664-4b85-baae-741835c75451",
   "metadata": {},
   "outputs": [
    {
     "data": {
      "text/plain": [
       "['$ cd /',\n",
       " '$ ls',\n",
       " 'dir a',\n",
       " '14848514 b.txt',\n",
       " '8504156 c.dat',\n",
       " 'dir d',\n",
       " '$ cd a',\n",
       " '$ ls',\n",
       " 'dir e',\n",
       " '29116 f',\n",
       " '2557 g',\n",
       " '62596 h.lst',\n",
       " '$ cd e',\n",
       " '$ ls',\n",
       " '584 i',\n",
       " '$ cd ..',\n",
       " '$ cd ..',\n",
       " '$ cd d',\n",
       " '$ ls',\n",
       " '4060174 j',\n",
       " '8033020 d.log',\n",
       " '5626152 d.ext',\n",
       " '7214296 k']"
      ]
     },
     "execution_count": 303,
     "metadata": {},
     "output_type": "execute_result"
    }
   ],
   "source": [
    "d.split(\"\\n\")"
   ]
  },
  {
   "cell_type": "code",
   "execution_count": 357,
   "id": "f5775d33-1d8b-478e-926c-44bf6a088da8",
   "metadata": {},
   "outputs": [
    {
     "data": {
      "text/plain": [
       "True"
      ]
     },
     "execution_count": 357,
     "metadata": {},
     "output_type": "execute_result"
    }
   ],
   "source": [
    "\"$ cd ..\"[2:7] == \"cd ..\""
   ]
  },
  {
   "cell_type": "code",
   "execution_count": 359,
   "id": "3ee743be-1dce-4984-8ba3-0c42eedf6104",
   "metadata": {},
   "outputs": [],
   "source": [
    "fileStructure = Folders(\"root\", \"none\")\n",
    "current = fileStructure\n",
    "puzzleSolution = []\n",
    "\n",
    "#iterate through lines\n",
    "for line in d.split(\"\\n\"):\n",
    "    #print(line)\n",
    "    if line != \"$ cd /\" and line !=  \"$ ls\":\n",
    "        startLine = line[0]\n",
    "        #print(line[:3])\n",
    "    \n",
    "        #starts with number: create file\n",
    "        if startLine.isnumeric():\n",
    "            #print(\"Create file\")\n",
    "            current.addFile(line)\n",
    "        \n",
    "        #starts with 'dir' create a directory\n",
    "        if line[:3] == \"dir\":\n",
    "            #print(\"Create directory\")\n",
    "            current.addDirectory(line, current)\n",
    "        \n",
    "        #starts with a $: action \n",
    "        if startLine == \"$\":\n",
    "            #cd .. \n",
    "            #print(\"cd\")\n",
    "            if line[2:7] == \"cd ..\":\n",
    "                #calculate size\n",
    "                #print(\"move up\")\n",
    "                current.calculateSize()\n",
    "                if current.size <= 100000:\n",
    "                    puzzleSolution.append(current.size)\n",
    "                #print(current.size)\n",
    "                #move to parent\n",
    "                current = moveUp(current)\n",
    "            \n",
    "            #cd name\n",
    "            else:\n",
    "                newDir = line.replace(\"$ cd \", \"\")\n",
    "                #move to directory (child) moveDown(name)\n",
    "                current = moveDown(current, newDir)"
   ]
  },
  {
   "cell_type": "code",
   "execution_count": 361,
   "id": "bfdad238-eb5f-4fe7-892a-b0e93dc86bc8",
   "metadata": {},
   "outputs": [
    {
     "data": {
      "text/plain": [
       "95437"
      ]
     },
     "execution_count": 361,
     "metadata": {},
     "output_type": "execute_result"
    }
   ],
   "source": [
    "sum(puzzleSolution)"
   ]
  },
  {
   "cell_type": "code",
   "execution_count": 363,
   "id": "58dfe962-b998-4eb4-824c-b6e2dc81882d",
   "metadata": {},
   "outputs": [],
   "source": [
    "file = \"challenge 07 input.txt\"\n",
    "with open(file) as f:\n",
    "    challenge7Data = f.read()"
   ]
  },
  {
   "cell_type": "code",
   "execution_count": 366,
   "id": "d2d3d3f1-3fe4-48e5-96a1-722cbf91dea4",
   "metadata": {},
   "outputs": [],
   "source": [
    "#challenge7Data.split(\"\\n\")"
   ]
  },
  {
   "cell_type": "code",
   "execution_count": 375,
   "id": "58b47432-c3d8-4e1d-a854-0a7846a2e217",
   "metadata": {},
   "outputs": [],
   "source": [
    "fileStructure = Folders(\"root\", \"none\")\n",
    "current = fileStructure\n",
    "puzzleSolution = []\n",
    "puzzleSolutionPrt2 = []\n",
    "\n",
    "#iterate through lines\n",
    "for line in challenge7Data.split(\"\\n\"):\n",
    "    #print(line)\n",
    "    if line != \"$ cd /\" and line !=  \"$ ls\":\n",
    "        startLine = line[0]\n",
    "        #print(line[:3])\n",
    "    \n",
    "        #starts with number: create file\n",
    "        if startLine.isnumeric():\n",
    "            #print(\"Create file\")\n",
    "            current.addFile(line)\n",
    "        \n",
    "        #starts with 'dir' create a directory\n",
    "        if line[:3] == \"dir\":\n",
    "            #print(\"Create directory\")\n",
    "            current.addDirectory(line, current)\n",
    "        \n",
    "        #starts with a $: action \n",
    "        if startLine == \"$\":\n",
    "            #cd .. \n",
    "            #print(\"cd\")\n",
    "            if line[2:7] == \"cd ..\":\n",
    "                #calculate size\n",
    "                #print(\"move up\")\n",
    "                current.calculateSize()\n",
    "                if current.size <= 100000:\n",
    "                    puzzleSolution.append(current.size)\n",
    "                if current.size >= 5980768:\n",
    "                    puzzleSolutionPrt2.append(current.size)\n",
    "                #print(current.size)\n",
    "                #move to parent\n",
    "                current = moveUp(current)\n",
    "            \n",
    "            #cd name\n",
    "            else:\n",
    "                newDir = line.replace(\"$ cd \", \"\")\n",
    "                #move to directory (child) moveDown(name)\n",
    "                current = moveDown(current, newDir)"
   ]
  },
  {
   "cell_type": "code",
   "execution_count": 376,
   "id": "e503241e-f1bb-4b0f-9aaf-9dcbfc1c73c6",
   "metadata": {},
   "outputs": [
    {
     "data": {
      "text/plain": [
       "1350966"
      ]
     },
     "execution_count": 376,
     "metadata": {},
     "output_type": "execute_result"
    }
   ],
   "source": [
    "sum(puzzleSolution)"
   ]
  },
  {
   "cell_type": "markdown",
   "id": "a889dcb9-562a-4fe8-9680-2bd968008ed3",
   "metadata": {},
   "source": [
    "# ! Part 1 SUCCESS !"
   ]
  },
  {
   "cell_type": "markdown",
   "id": "d5a4b00c-2b24-4f8d-b938-23f78261a4b0",
   "metadata": {},
   "source": [
    "# --- Part Two ---\n",
    "Now, you're ready to choose a directory to delete.\n",
    "\n",
    "The total disk space available to the filesystem is `70000000`. To run the update, you need unused space of at least `30000000`. You need to find a directory you can delete that will free up enough space to run the update.\n",
    "\n",
    "In the example above, the total size of the outermost directory (and thus the total amount of used space) is `48381165`; this means that the size of the unused space must currently be `21618835`, which isn't quite the `30000000` required by the update. Therefore, the update still requires a directory with total size of at least `8381165` to be deleted before it can run.\n",
    "\n",
    "To achieve this, you have the following options:\n",
    "\n",
    "+ Delete directory e, which would increase unused space by `584`.       \n",
    "+ Delete directory a, which would increase unused space by `94853`.    \n",
    "+ Delete directory d, which would increase unused space by `24933642`.    \n",
    "+ Delete directory /, which would increase unused space by `48381165`.    \n",
    "\n",
    "Directories `e` and `a` are both too small; deleting them would not free up enough space. However, directories d and / are both big enough! Between these, choose the __smallest__: `d`, increasing unused space by `24933642`.\n",
    "\n",
    "Find the smallest directory that, if deleted, would free up enough space on the filesystem to run the update. __What is the total size of that directory?__"
   ]
  },
  {
   "cell_type": "code",
   "execution_count": 371,
   "id": "eec1854f-6a48-4942-af15-be71b95e52c7",
   "metadata": {},
   "outputs": [
    {
     "data": {
      "text/plain": [
       "45980768"
      ]
     },
     "execution_count": 371,
     "metadata": {},
     "output_type": "execute_result"
    }
   ],
   "source": [
    "fileStructure.calculateSize()\n",
    "fileStructure.size"
   ]
  },
  {
   "cell_type": "code",
   "execution_count": 374,
   "id": "19b39494-294b-407c-95e0-39e9533f2bf4",
   "metadata": {},
   "outputs": [
    {
     "name": "stdout",
     "output_type": "stream",
     "text": [
      "I need an extra: 5980768\n"
     ]
    }
   ],
   "source": [
    "totalSpace = 70000000\n",
    "freeSpace = totalSpace - fileStructure.size\n",
    "spaceRequired = 30000000\n",
    "if freeSpace > spaceRequired:\n",
    "    print(\"I have enough space\")\n",
    "else:\n",
    "    print(\"I need an extra: \" + str(spaceRequired - freeSpace))"
   ]
  },
  {
   "cell_type": "code",
   "execution_count": 378,
   "id": "83417cc9-f1ea-4648-8223-84e7f491791e",
   "metadata": {},
   "outputs": [],
   "source": [
    "#Add to above to find the smallest directory above the needed size, sort the array\n",
    "puzzleSolutionPrt2.sort()"
   ]
  },
  {
   "cell_type": "code",
   "execution_count": 379,
   "id": "82c4b468-3d8f-4337-8842-5eaeb1aa3ca5",
   "metadata": {},
   "outputs": [
    {
     "data": {
      "text/plain": [
       "[6296435, 7871401, 9470683, 12653650, 14058385, 21647288]"
      ]
     },
     "execution_count": 379,
     "metadata": {},
     "output_type": "execute_result"
    }
   ],
   "source": [
    "#Examine the array for the smallest value\n",
    "puzzleSolutionPrt2"
   ]
  }
 ],
 "metadata": {
  "kernelspec": {
   "display_name": "Python 3",
   "language": "python",
   "name": "python3"
  },
  "language_info": {
   "codemirror_mode": {
    "name": "ipython",
    "version": 3
   },
   "file_extension": ".py",
   "mimetype": "text/x-python",
   "name": "python",
   "nbconvert_exporter": "python",
   "pygments_lexer": "ipython3",
   "version": "3.9.1"
  }
 },
 "nbformat": 4,
 "nbformat_minor": 5
}
