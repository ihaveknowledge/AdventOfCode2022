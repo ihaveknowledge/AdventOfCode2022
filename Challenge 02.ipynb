{
 "cells": [
  {
   "cell_type": "markdown",
   "id": "77c15330-c38b-4848-9149-d534810ec540",
   "metadata": {},
   "source": [
    "# --- Day 2: Rock Paper Scissors ---   \n",
    "The Elves begin to set up camp on the beach. To decide whose tent gets to be closest to the snack storage, a giant __Rock Paper Scissors__ tournament is already in progress.\n",
    "\n",
    "Rock Paper Scissors is a game between two players. Each game contains many rounds; in each round, the players each simultaneously choose one of Rock, Paper, or Scissors using a hand shape. Then, a winner for that round is selected: Rock defeats Scissors, Scissors defeats Paper, and Paper defeats Rock. If both players choose the same shape, the round instead ends in a draw.\n",
    "\n",
    "Appreciative of your help yesterday, one Elf gives you an _encrypted strategy guide_ (your puzzle input) that they say will be sure to help you win. \"The first column is what your opponent is going to play: _A_ for Rock, _B_ for Paper, and _C_ for Scissors. The second column--\" Suddenly, the Elf is called away to help with someone's tent.\n",
    "\n",
    "The second column, you reason, must be what you should play in response: _X_ for Rock, _Y_ for Paper, and _Z_ for Scissors. Winning every time would be suspicious, so the responses must have been carefully chosen.\n",
    "\n",
    "The winner of the whole tournament is the player with the highest score. Your __total score__ is the sum of your scores for each round. The score for a single round is the score for the __shape you selected__ (1 for Rock, 2 for Paper, and 3 for Scissors) plus the score for the __outcome of the round__ (0 if you lost, 3 if the round was a draw, and 6 if you won).\n",
    "\n",
    "Since you can't be sure if the Elf is trying to help you or trick you, you should calculate the score you would get if you were to follow the strategy guide.\n",
    "\n",
    "For example, suppose you were given the following strategy guide:\n",
    "   \n",
    "A Y   \n",
    "B X    \n",
    "C Z   \n",
    "\n",
    "This strategy guide predicts and recommends the following:\n",
    "\n",
    "In the first round, your opponent will choose Rock (A), and you should choose Paper (Y). This ends in a win for you with a score of 8 (2 because you chose Paper + 6 because you won).\n",
    "In the second round, your opponent will choose Paper (B), and you should choose Rock (X). This ends in a loss for you with a score of 1 (1 + 0).\n",
    "The third round is a draw with both players choosing Scissors, giving you a score of 3 + 3 = 6.\n",
    "In this example, if you were to follow the strategy guide, you would get a total score of 15 (8 + 1 + 6).\n",
    "\n",
    "__What would your total score be if everything goes exactly according to your strategy guide?__"
   ]
  },
  {
   "cell_type": "markdown",
   "id": "d1e8c8e7-a9fd-4493-a6b8-b15eb9313b86",
   "metadata": {},
   "source": [
    "# Create functions"
   ]
  },
  {
   "cell_type": "code",
   "execution_count": 233,
   "id": "1d587ac3-d2c5-49a9-a076-33bd770b42ac",
   "metadata": {},
   "outputs": [],
   "source": [
    "def draw(draw):\n",
    "    \"\"\"\n",
    "    This function takes a value from the strategy guide converts it to the actual draw and score\n",
    "    Function is given a single letter string from the strategy guide to return the actual draw and the score for that item\n",
    "    \"\"\"\n",
    "    if draw == \"A\" or draw == \"X\":\n",
    "        return {\"item\":\"Rock\", \"score\":1}\n",
    "    elif draw == \"B\" or draw == \"Y\":\n",
    "        return {\"item\":\"Paper\", \"score\":2}\n",
    "    elif draw == \"C\" or draw == \"Z\":\n",
    "        return {\"item\":\"Scissors\", \"score\":3}\n",
    "\n",
    "def game(hands):\n",
    "    \"\"\"\n",
    "    This function plays the game, it reads an array of two strings, calls the draw function, plays the hand and uses the score function to score the game\n",
    "    \"\"\"\n",
    "    myHand = hands[1]\n",
    "    elfHand = hands[0]\n",
    "    myHandResult = draw(myHand)\n",
    "    \n",
    "    MYHAND = [\"X\", \"Y\", \"Z\"]\n",
    "    ELFHAND = [\"A\", \"B\", \"C\"]\n",
    "    \n",
    "    elf = ELFHAND.index(elfHand)\n",
    "    me = MYHAND.index(myHand)\n",
    "    outcome = elf - me\n",
    "    \n",
    "    #Outcome is draw, I have the same hand\n",
    "    if me == elf:\n",
    "        myHandResult[\"result\"] = 3\n",
    "    \n",
    "    #Outcome is a lose\n",
    "    if outcome == -2 or outcome == 1:\n",
    "        myHandResult[\"result\"] = 0\n",
    "                        \n",
    "    #Outcome is a win\n",
    "    if outcome == 2 or outcome == -1:\n",
    "        myHandResult[\"result\"] = 6\n",
    "    \n",
    "    return score(myHandResult)\n",
    "    \n",
    "def score(result):\n",
    "    \"\"\"\n",
    "    Scores the result by adding the score for the win, lose or draw with the score for the hand drawn i.e. rock, paper or scissors\n",
    "    Reads in a dictionary and returns an enhanced dictionary\n",
    "    \"\"\"\n",
    "    result[\"TotalScore\"] = result[\"score\"] + result[\"result\"]\n",
    "    return result"
   ]
  },
  {
   "cell_type": "code",
   "execution_count": 236,
   "id": "acf67e2d-4a68-4e6a-aac0-a6b78878353f",
   "metadata": {},
   "outputs": [],
   "source": [
    "def letsPlay(txt):\n",
    "    \"\"\"\n",
    "    This function plays the round using the data provided and returns the final score\n",
    "    \"\"\"\n",
    "    totalScore = 0\n",
    "    for item in txt.split(\"\\n\"):\n",
    "        if item != \"\":\n",
    "            a = item.split(\" \")\n",
    "            #print(a)\n",
    "            s = game(a)\n",
    "            totalScore += s[\"TotalScore\"]\n",
    "    return totalScore"
   ]
  },
  {
   "cell_type": "markdown",
   "id": "7693e73a-0d79-4f4b-a47a-3962f908dc58",
   "metadata": {},
   "source": [
    "# Apply Test Data to gaming functions"
   ]
  },
  {
   "cell_type": "code",
   "execution_count": 237,
   "id": "110535dc-3a8b-43e5-b254-f24e906808eb",
   "metadata": {},
   "outputs": [],
   "source": [
    "#LOAD THE TRAINING DATA\n",
    "d = \"\"\"A Y\n",
    "B X\n",
    "C Z\n",
    "\"\"\""
   ]
  },
  {
   "cell_type": "code",
   "execution_count": 239,
   "id": "0d9d4e3d-4886-45ff-b277-67613c1d1b2e",
   "metadata": {},
   "outputs": [
    {
     "name": "stdout",
     "output_type": "stream",
     "text": [
      "Score equals 15! SUCCESS\n"
     ]
    }
   ],
   "source": [
    "#PLAY THE GAME WITH THE TRAINING DATA, RESULT SHOULD BE 15\n",
    "if letsPlay(d) == 15:\n",
    "    print(\"Score equals 15! SUCCESS\")\n",
    "else:\n",
    "    print(\"Test failed\")"
   ]
  },
  {
   "cell_type": "markdown",
   "id": "342d16cf-a1a4-4fd3-8774-2ed8a464a08d",
   "metadata": {},
   "source": [
    "# --- Part 1 ----\n",
    "Let's load the actual data and apply our functions"
   ]
  },
  {
   "cell_type": "code",
   "execution_count": 85,
   "id": "5a2ff169-e705-475c-a0e2-c409dbdb4c15",
   "metadata": {},
   "outputs": [],
   "source": [
    "file = \"challenge 02 input.txt\"\n",
    "with open(file) as f:\n",
    "    challenge2Data = f.read()"
   ]
  },
  {
   "cell_type": "code",
   "execution_count": 240,
   "id": "200f0eba-6d56-4931-a4f4-4fc0e71408d5",
   "metadata": {},
   "outputs": [
    {
     "data": {
      "text/plain": [
       "12794"
      ]
     },
     "execution_count": 240,
     "metadata": {},
     "output_type": "execute_result"
    }
   ],
   "source": [
    "letsPlay(challenge2Data)"
   ]
  },
  {
   "cell_type": "markdown",
   "id": "599f1760-ac99-416f-8940-d8b1929b946e",
   "metadata": {},
   "source": [
    "# SUCCESS !"
   ]
  },
  {
   "cell_type": "markdown",
   "id": "d273d905-5983-4260-ab34-9ae464124ca2",
   "metadata": {},
   "source": [
    "# --- Part 2 ---\n",
    "\n",
    "The Elf finishes helping with the tent and sneaks back over to you. \"Anyway, the second column says how the round needs to end: X means you need to lose, Y means you need to end the round in a draw, and Z means you need to win. Good luck!\"\n",
    "\n",
    "The total score is still calculated in the same way, but now you need to figure out what shape to choose so the round ends as indicated. The example above now goes like this:\n",
    "\n",
    "In the first round, your opponent will choose Rock (A), and you need the round to end in a draw (Y), so you also choose Rock. This gives you a score of 1 + 3 = 4.\n",
    "In the second round, your opponent will choose Paper (B), and you choose Rock so you lose (X) with a score of 1 + 0 = 1.\n",
    "In the third round, you will defeat your opponent's Scissors with Rock for a score of 1 + 6 = 7.\n",
    "Now that you're correctly decrypting the ultra top secret strategy guide, you would get a total score of 12.\n",
    "\n",
    "__Following the Elf's instructions for the second column, what would your total score be if everything goes exactly according to your strategy guide?__"
   ]
  },
  {
   "cell_type": "code",
   "execution_count": 120,
   "id": "044b0ce5-0123-404f-9258-967f10d7ee6a",
   "metadata": {},
   "outputs": [
    {
     "data": {
      "text/plain": [
       "{'item': 'Rock', 'score': 1}"
      ]
     },
     "execution_count": 120,
     "metadata": {},
     "output_type": "execute_result"
    }
   ],
   "source": [
    "draw(MYHAND[(ELFHAND.index(\"Y\") - 1) % 3])\n"
   ]
  },
  {
   "cell_type": "code",
   "execution_count": 155,
   "id": "d3309662-7faa-4643-91a4-84fcd5072c69",
   "metadata": {},
   "outputs": [],
   "source": [
    "def whatsMyHand(elfHand, outcome):\n",
    "    MYHAND = [\"X\", \"Y\", \"Z\"]\n",
    "    ELFHAND = [\"A\", \"B\", \"C\"]\n",
    "    \n",
    "    #Outcome is draw, I have the same hand\n",
    "    if outcome == \"Y\":\n",
    "        myHand = draw(elfHand)\n",
    "        myHand[\"result\"] = 3\n",
    "    \n",
    "    #Outcome is a lose\n",
    "    if outcome == \"X\":\n",
    "        myHand = draw(MYHAND[(ELFHAND.index(elfHand) - 1) % 3])\n",
    "        myHand[\"result\"] = 0\n",
    "                        \n",
    "    #Outcome is a win\n",
    "    if outcome == \"Z\":\n",
    "        myHand = draw(MYHAND[(ELFHAND.index(elfHand) + 1) % 3])\n",
    "        myHand[\"result\"] = 6\n",
    "    \n",
    "    return myHand\n",
    "\n",
    "def game(hands):\n",
    "    \"\"\"\n",
    "    This function needs to be refactored to take the outcome and find my hand given the elf's hand\n",
    "    This function plays the game, it reads an array of two strings, calls the draw function, plays the hand and uses the score function to score the game\n",
    "    \"\"\"\n",
    "    outcome = hands[1]\n",
    "    elfHand = hands[0]\n",
    "    \n",
    "    myHand = whatsMyHand(elfHand, outcome)\n",
    "    \n",
    "    return score(myHand)"
   ]
  },
  {
   "cell_type": "code",
   "execution_count": 156,
   "id": "0272f15b-aac2-46c6-9f80-311232a5f1e9",
   "metadata": {},
   "outputs": [
    {
     "data": {
      "text/plain": [
       "'A Y\\nB X\\nC Z\\n'"
      ]
     },
     "execution_count": 156,
     "metadata": {},
     "output_type": "execute_result"
    }
   ],
   "source": [
    "d"
   ]
  },
  {
   "cell_type": "code",
   "execution_count": 159,
   "id": "eb8d20d5-189a-4d69-be22-588c8c5a919c",
   "metadata": {},
   "outputs": [],
   "source": [
    "def letsPlay(txt):\n",
    "    \"\"\"\n",
    "    This function plays the round using the data provided and returns the final score\n",
    "    \"\"\"\n",
    "    totalScore = 0\n",
    "    for item in txt.split(\"\\n\"):\n",
    "        if item != \"\":\n",
    "            a = item.split(\" \")\n",
    "            s = game(a)\n",
    "            totalScore += s[\"TotalScore\"]\n",
    "            #print(s)\n",
    "    return totalScore"
   ]
  },
  {
   "cell_type": "code",
   "execution_count": 160,
   "id": "1ce04cad-43c4-4aed-9cb8-77633d51a52f",
   "metadata": {},
   "outputs": [
    {
     "name": "stdout",
     "output_type": "stream",
     "text": [
      "Score equals 12! SUCCESS\n"
     ]
    }
   ],
   "source": [
    "#PLAY THE GAME WITH THE TRAINING DATA, RESULT SHOULD BE 15\n",
    "if letsPlay(d) == 12:\n",
    "    print(\"Score equals 12! SUCCESS\")\n",
    "else:\n",
    "    print(\"Test failed\")"
   ]
  },
  {
   "cell_type": "markdown",
   "id": "0c9f890b-c7f1-4108-b077-82b5c50e0650",
   "metadata": {},
   "source": [
    "# Let's play with real data"
   ]
  },
  {
   "cell_type": "code",
   "execution_count": 161,
   "id": "3c6b6de3-613c-4369-abe2-b025510480ef",
   "metadata": {},
   "outputs": [
    {
     "data": {
      "text/plain": [
       "14979"
      ]
     },
     "execution_count": 161,
     "metadata": {},
     "output_type": "execute_result"
    }
   ],
   "source": [
    "letsPlay(challenge2Data)"
   ]
  }
 ],
 "metadata": {
  "kernelspec": {
   "display_name": "Python 3",
   "language": "python",
   "name": "python3"
  },
  "language_info": {
   "codemirror_mode": {
    "name": "ipython",
    "version": 3
   },
   "file_extension": ".py",
   "mimetype": "text/x-python",
   "name": "python",
   "nbconvert_exporter": "python",
   "pygments_lexer": "ipython3",
   "version": "3.9.1"
  }
 },
 "nbformat": 4,
 "nbformat_minor": 5
}
