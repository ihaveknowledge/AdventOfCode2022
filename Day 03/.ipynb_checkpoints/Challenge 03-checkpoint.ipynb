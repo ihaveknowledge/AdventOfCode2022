{
 "cells": [
  {
   "cell_type": "markdown",
   "id": "13035c38-c62b-4e7b-b68d-a81f4757a118",
   "metadata": {},
   "source": [
    "# --- Day 3: Rucksack Reorganization ---   \n",
    "One Elf has the important job of loading all of the __rucksacks__ with supplies for the jungle journey. Unfortunately, that Elf didn't quite follow the packing instructions, and so a few items now need to be rearranged.\n",
    "\n",
    "Each rucksack has two large __compartments__. All items of a given type are meant to go into exactly one of the two compartments. The Elf that did the packing failed to follow this rule for exactly one item type per rucksack.\n",
    "\n",
    "The Elves have made a list of all of the items currently in each rucksack (your puzzle input), but they need your help finding the errors. Every item type is identified by a single lowercase or uppercase letter (that is, a and A refer to different types of items).\n",
    "\n",
    "The list of items for each rucksack is given as characters all on a single line. A given rucksack always has the same number of items in each of its two compartments, so the first half of the characters represent items in the first compartment, while the second half of the characters represent items in the second compartment.\n",
    "\n",
    "For example, suppose you have the following list of contents from six rucksacks:\n",
    "\n",
    "` vJrwpWtwJgWrhcsFMMfFFhFp `   \n",
    "` jqHRNqRjqzjGDLGLrsFMfFZSrLrFZsSL `    \n",
    "` PmmdzqPrVvPwwTWBwg `   \n",
    "` wMqvLMZHhHMvwLHjbvcjnnSBnvTQFn `   \n",
    "` ttgJtRGJQctTZtZT `   \n",
    "` CrZsJsPPZsGzwwsLwLmpwMDw `\n",
    "    \n",
    "The first rucksack contains the items `vJrwpWtwJgWrhcsFMMfFFhFp`, which means its first compartment contains the items `vJrwpWtwJgWr`, while the second compartment contains the items `hcsFMMfFFhFp`. The only item type that appears in both compartments is lowercase `p`.\n",
    "The second rucksack's compartments contain `jqHRNqRjqzjGDLGL` and `rsFMfFZSrLrFZsSL`. The only item type that appears in both compartments is uppercase `L`.\n",
    "The third rucksack's compartments contain `PmmdzqPrV` and `vPwwTWBwg`; the only common item type is uppercase `P`.\n",
    "The fourth rucksack's compartments only share item type `v`.\n",
    "The fifth rucksack's compartments only share item type `t`.\n",
    "The sixth rucksack's compartments only share item type `s`.\n",
    "To help prioritize item rearrangement, every item type can be converted to a __priority__:\n",
    "\n",
    "Lowercase item types a through z have priorities 1 through 26.\n",
    "Uppercase item types A through Z have priorities 27 through 52.\n",
    "In the above example, the priority of the item type that appears in both compartments of each rucksack is 16 (p), 38 (L), 42 (P), 22 (v), 20 (t), and 19 (s); the sum of these is 157.\n",
    "\n",
    "__Find the item type that appears in both compartments of each rucksack. What is the sum of the priorities of those item types?__"
   ]
  },
  {
   "cell_type": "markdown",
   "id": "8dd3bd06-1e7b-4113-b4d5-65cd4bbfe637",
   "metadata": {},
   "source": [
    " "
   ]
  },
  {
   "cell_type": "code",
   "execution_count": null,
   "id": "ec4112e1-f1b4-4939-8c27-3b0ae61316bf",
   "metadata": {},
   "outputs": [],
   "source": []
  },
  {
   "cell_type": "code",
   "execution_count": null,
   "id": "1029e150-5d99-41cf-9042-ad77f542decd",
   "metadata": {},
   "outputs": [],
   "source": []
  },
  {
   "cell_type": "code",
   "execution_count": null,
   "id": "07f7b6a0-56ea-453b-bf6a-97c6045c39a7",
   "metadata": {},
   "outputs": [],
   "source": [
    "file = \"challenge 03 input.txt\"\n",
    "with open(file) as f:\n",
    "    challenge2Data = f.read()"
   ]
  }
 ],
 "metadata": {
  "kernelspec": {
   "display_name": "Python 3",
   "language": "python",
   "name": "python3"
  },
  "language_info": {
   "codemirror_mode": {
    "name": "ipython",
    "version": 3
   },
   "file_extension": ".py",
   "mimetype": "text/x-python",
   "name": "python",
   "nbconvert_exporter": "python",
   "pygments_lexer": "ipython3",
   "version": "3.9.1"
  }
 },
 "nbformat": 4,
 "nbformat_minor": 5
}
