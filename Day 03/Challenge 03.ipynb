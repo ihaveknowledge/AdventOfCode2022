{
 "cells": [
  {
   "cell_type": "markdown",
   "id": "13035c38-c62b-4e7b-b68d-a81f4757a118",
   "metadata": {},
   "source": [
    "# --- Day 3: Rucksack Reorganization ---   \n",
    "One Elf has the important job of loading all of the __rucksacks__ with supplies for the jungle journey. Unfortunately, that Elf didn't quite follow the packing instructions, and so a few items now need to be rearranged.\n",
    "\n",
    "Each rucksack has two large __compartments__. All items of a given type are meant to go into exactly one of the two compartments. The Elf that did the packing failed to follow this rule for exactly one item type per rucksack.\n",
    "\n",
    "The Elves have made a list of all of the items currently in each rucksack (your puzzle input), but they need your help finding the errors. Every item type is identified by a single lowercase or uppercase letter (that is, a and A refer to different types of items).\n",
    "\n",
    "The list of items for each rucksack is given as characters all on a single line. A given rucksack always has the same number of items in each of its two compartments, so the first half of the characters represent items in the first compartment, while the second half of the characters represent items in the second compartment.\n",
    "\n",
    "For example, suppose you have the following list of contents from six rucksacks:\n",
    "\n",
    "` vJrwpWtwJgWrhcsFMMfFFhFp `   \n",
    "` jqHRNqRjqzjGDLGLrsFMfFZSrLrFZsSL `    \n",
    "` PmmdzqPrVvPwwTWBwg `   \n",
    "` wMqvLMZHhHMvwLHjbvcjnnSBnvTQFn `   \n",
    "` ttgJtRGJQctTZtZT `   \n",
    "` CrZsJsPPZsGzwwsLwLmpwMDw `\n",
    "    \n",
    "The first rucksack contains the items `vJrwpWtwJgWrhcsFMMfFFhFp`, which means its first compartment contains the items `vJrwpWtwJgWr`, while the second compartment contains the items `hcsFMMfFFhFp`. The only item type that appears in both compartments is lowercase `p`.\n",
    "The second rucksack's compartments contain `jqHRNqRjqzjGDLGL` and `rsFMfFZSrLrFZsSL`. The only item type that appears in both compartments is uppercase `L`.\n",
    "The third rucksack's compartments contain `PmmdzqPrV` and `vPwwTWBwg`; the only common item type is uppercase `P`.\n",
    "The fourth rucksack's compartments only share item type `v`.\n",
    "The fifth rucksack's compartments only share item type `t`.\n",
    "The sixth rucksack's compartments only share item type `s`.\n",
    "To help prioritize item rearrangement, every item type can be converted to a __priority__:\n",
    "\n",
    "Lowercase item types a through z have priorities 1 through 26.\n",
    "Uppercase item types A through Z have priorities 27 through 52.\n",
    "In the above example, the priority of the item type that appears in both compartments of each rucksack is 16 (p), 38 (L), 42 (P), 22 (v), 20 (t), and 19 (s); the sum of these is 157.\n",
    "\n",
    "__Find the item type that appears in both compartments of each rucksack. What is the sum of the priorities of those item types?__"
   ]
  },
  {
   "cell_type": "markdown",
   "id": "d4562366-10c6-49f4-8c0b-6071ea08418e",
   "metadata": {},
   "source": [
    "## Create an Elf class to hold the elves in with their info"
   ]
  },
  {
   "cell_type": "code",
   "execution_count": 150,
   "id": "c3881fd4-b316-428e-b296-31c0d2f33b97",
   "metadata": {},
   "outputs": [],
   "source": [
    "class Elf:\n",
    "    \"\"\"\n",
    "    This class will hold a new Elf, the items in their rucksack and in each compartment\n",
    "    On creation a function will run to find the single duplicate item in each compartment\n",
    "    \"\"\"\n",
    "    def __init__(self, ruckSackContent):\n",
    "        self.ruckSackContent = ruckSackContent\n",
    "        self.numberOfItems = int(len(self.ruckSackContent)/2)\n",
    "        self.firstCompartment = self.ruckSackContent[:self.numberOfItems]\n",
    "        self.secondCompartment = self.ruckSackContent[self.numberOfItems:]\n",
    "        \n",
    "        #Run function on creation to find the duplicate item\n",
    "        self.duplicateItem()\n",
    "        \n",
    "    def duplicateItem(self):\n",
    "        \"\"\"\n",
    "        Find the duplicate item between the two compartments\n",
    "        \"\"\"\n",
    "        for char in list(self.firstCompartment): \n",
    "            if char in list(self.secondCompartment):\n",
    "                self.sharedItem = char\n",
    "                self.sharedItemPriority = priority(char)\n",
    "                \n",
    "    def addGroup(self, group):\n",
    "        \"\"\"\n",
    "        Created for second part to put elves in groups of three\n",
    "        \"\"\"\n",
    "        self.elfGroup = group\n",
    "        "
   ]
  },
  {
   "cell_type": "code",
   "execution_count": 103,
   "id": "1bae36b9-ea7a-449b-8b0d-a0ca3eea3376",
   "metadata": {},
   "outputs": [],
   "source": [
    "# Imprort String library\n",
    "import string\n",
    "#Put alphabet into a list a-z and A-Z\n",
    "PRIORITY = list(string.ascii_lowercase + string.ascii_uppercase)\n",
    "\n",
    "def priority(item):\n",
    "    \"\"\"\n",
    "    Function takes a single letter and returns the array index plus 1. \n",
    "    The letter 'a' will return 1 and the letter 'A' will return 27\n",
    "    \"\"\"\n",
    "    return PRIORITY.index(item) + 1"
   ]
  },
  {
   "cell_type": "code",
   "execution_count": 104,
   "id": "ec4112e1-f1b4-4939-8c27-3b0ae61316bf",
   "metadata": {},
   "outputs": [],
   "source": [
    "d = \"\"\"vJrwpWtwJgWrhcsFMMfFFhFp\n",
    "jqHRNqRjqzjGDLGLrsFMfFZSrLrFZsSL\n",
    "PmmdzqPrVvPwwTWBwg\n",
    "wMqvLMZHhHMvwLHjbvcjnnSBnvTQFn\n",
    "ttgJtRGJQctTZtZT\n",
    "CrZsJsPPZsGzwwsLwLmpwMDw\"\"\""
   ]
  },
  {
   "cell_type": "markdown",
   "id": "b200d2ea-b0de-444a-aefe-3678c6a725b9",
   "metadata": {},
   "source": [
    "## Create Elves from training data and sum up priority"
   ]
  },
  {
   "cell_type": "code",
   "execution_count": 125,
   "id": "1029e150-5d99-41cf-9042-ad77f542decd",
   "metadata": {},
   "outputs": [],
   "source": [
    "elves = []\n",
    "for elf in d.split(\"\\n\"):\n",
    "    elves.append(Elf(elf))"
   ]
  },
  {
   "cell_type": "code",
   "execution_count": 128,
   "id": "20696cc2-cebf-411c-b877-d8760462dc07",
   "metadata": {},
   "outputs": [
    {
     "name": "stdout",
     "output_type": "stream",
     "text": [
      "157\n"
     ]
    }
   ],
   "source": [
    "p = 0\n",
    "for elf in elves:\n",
    "    #print(elf.sharedItemPriority)\n",
    "    p += elf.sharedItemPriority\n",
    "print(p)"
   ]
  },
  {
   "cell_type": "code",
   "execution_count": 2,
   "id": "07f7b6a0-56ea-453b-bf6a-97c6045c39a7",
   "metadata": {},
   "outputs": [],
   "source": [
    "file = \"challenge 03 input.txt\"\n",
    "with open(file) as f:\n",
    "    challenge3Data = f.read()"
   ]
  },
  {
   "cell_type": "code",
   "execution_count": 138,
   "id": "9c9b0ebc-25a0-430e-a8ac-717950e89c13",
   "metadata": {},
   "outputs": [
    {
     "name": "stdout",
     "output_type": "stream",
     "text": [
      "7553\n"
     ]
    }
   ],
   "source": [
    "elves = []\n",
    "for elf in challenge3Data.split(\"\\n\"):\n",
    "    if elf != \"\":\n",
    "        elves.append(Elf(elf))\n",
    "p = 0\n",
    "for elf in elves:\n",
    "    p += elf.sharedItemPriority\n",
    "print(p)"
   ]
  },
  {
   "cell_type": "markdown",
   "id": "ce1a2831-2d16-4f4d-977b-514634057164",
   "metadata": {},
   "source": [
    "# --- Part 2 ---\n",
    "As you finish identifying the misplaced items, the Elves come to you with another issue.\n",
    "\n",
    "For safety, the Elves are divided into groups of three. Every Elf carries a badge that identifies their group. For efficiency, within each group of three Elves, the badge is the only item type carried by all three Elves. That is, if a group's badge is item type B, then all three Elves will have item type B somewhere in their rucksack, and at most two of the Elves will be carrying any other item type.\n",
    "\n",
    "The problem is that someone forgot to put this year's updated authenticity sticker on the badges. All of the badges need to be pulled out of the rucksacks so the new authenticity stickers can be attached.\n",
    "\n",
    "Additionally, nobody wrote down which item type corresponds to each group's badges. The only way to tell which item type is the right one is by finding the one item type that is common between all three Elves in each group.\n",
    "\n",
    "Every set of three lines in your list corresponds to a single group, but each group can have a different badge item type. So, in the above example, the first group's rucksacks are the first three lines:\n",
    "\n",
    "` vJrwpWtwJgWrhcsFMMfFFhFp`    \n",
    "` jqHRNqRjqzjGDLGLrsFMfFZSrLrFZsSL`   \n",
    "`PmmdzqPrVvPwwTWBwg`      \n",
    "\n",
    "And the second group's rucksacks are the next three lines:\n",
    "\n",
    "`wMqvLMZHhHMvwLHjbvcjnnSBnvTQFn`   \n",
    "`ttgJtRGJQctTZtZT`   \n",
    "`CrZsJsPPZsGzwwsLwLmpwMDw`   \n",
    "In the first group, the only item type that appears in all three rucksacks is lowercase r; this must be their badges. In the second group, their badge item type must be Z.\n",
    "\n",
    "Priorities for these items must still be found to organize the sticker attachment efforts: here, they are 18 (r) for the first group and 52 (Z) for the second group. The sum of these is 70.\n",
    "\n",
    "__Find the item type that corresponds to the badges of each three-Elf group. What is the sum of the priorities of those item types?__"
   ]
  },
  {
   "cell_type": "code",
   "execution_count": 179,
   "id": "03805ca7-c587-42fd-9216-cd12b505bb6c",
   "metadata": {},
   "outputs": [],
   "source": [
    "class ElfGroups:\n",
    "    \"\"\"\n",
    "    This class will hold a group of elves, including what is in their rucksacks\n",
    "    This could be expanded to include the actual Elves by calling the first class from the constructor function\n",
    "    however this is not needed here\n",
    "    \"\"\"\n",
    "    def __init__(self, ruckSackContent):\n",
    "        self.ruckSackOne = ruckSackContent[0] #this could be passed to Elf() to create the Elf as an object\n",
    "        self.ruckSackTwo = ruckSackContent[1]\n",
    "        self.ruckSackThree = ruckSackContent[2]\n",
    "        \n",
    "        #Run function on creation to find the duplicate item\n",
    "        self.duplicateItem()\n",
    "        \n",
    "        #Run function on creation to find the duplicate item\n",
    "    def duplicateItem(self):\n",
    "            for char in list(self.ruckSackOne): \n",
    "                if char in list(self.ruckSackTwo) and char in list(self.ruckSackThree):\n",
    "                    self.sharedItem = char\n",
    "                    self.sharedItemPriority = priority(char)"
   ]
  },
  {
   "cell_type": "markdown",
   "id": "ea05b32f-3b40-4342-9bc5-d6e2cba5054c",
   "metadata": {},
   "source": [
    "## Create the Elf groups using the training data"
   ]
  },
  {
   "cell_type": "code",
   "execution_count": 237,
   "id": "7ef9195b-5491-4371-9e47-e29560577aea",
   "metadata": {},
   "outputs": [],
   "source": [
    "#Create groups of Elves\n",
    "elfGroup = []\n",
    "#Split training data into array\n",
    "data = d.split(\"\\n\")\n",
    "\n",
    "for i in range(len(data) + 1):\n",
    "    #identify the end of each group\n",
    "    if i % 3 == 0 and i != 0 or i == 299 and i != 0:\n",
    "        elfGroup.append(ElfGroups(data[i-3:i])) #slice array\n",
    "\n",
    "#valiable to count priority\n",
    "p = 0\n",
    "\n",
    "for group in elfGroup:\n",
    "    p += group.sharedItemPriority"
   ]
  },
  {
   "cell_type": "code",
   "execution_count": 230,
   "id": "617cf20f-746b-435e-b468-a6ebe993678b",
   "metadata": {},
   "outputs": [
    {
     "name": "stdout",
     "output_type": "stream",
     "text": [
      "SUCCESS THE RESULT SHOULD EQUAL 70\n"
     ]
    }
   ],
   "source": [
    "if p == 70:\n",
    "    print(\"SUCCESS THE RESULT SHOULD EQUAL 70\")\n",
    "else:\n",
    "    print(\"TEST FAILED!\")"
   ]
  },
  {
   "cell_type": "markdown",
   "id": "8b605d36-cf61-4bab-a234-651122b814e9",
   "metadata": {},
   "source": [
    "## Create the real Elf groups"
   ]
  },
  {
   "cell_type": "code",
   "execution_count": 236,
   "id": "8700847e-4b31-4d16-b527-8b9fd9c96b46",
   "metadata": {},
   "outputs": [],
   "source": [
    "#Create groups of Elves\n",
    "elfGroup = []\n",
    "#Split data into array\n",
    "data = challenge3Data.split(\"\\n\")\n",
    "\n",
    "for i in range(len(data) + 1):\n",
    "    #identify the end of each group\n",
    "    if i % 3 == 0 and i != 0: #start at 3 and each number divisible by three\n",
    "        elfGroup.append(ElfGroups(data[i-3:i])) #slice array into groups of 3\n",
    "\n",
    "\n",
    "#valiable to count priority\n",
    "p = 0\n",
    "\n",
    "for group in elfGroup:\n",
    "    p += group.sharedItemPriority"
   ]
  },
  {
   "cell_type": "code",
   "execution_count": 234,
   "id": "11a2d395-9f87-4c1c-8c26-be93b5f94108",
   "metadata": {},
   "outputs": [
    {
     "data": {
      "text/plain": [
       "2758"
      ]
     },
     "execution_count": 234,
     "metadata": {},
     "output_type": "execute_result"
    }
   ],
   "source": [
    "p"
   ]
  },
  {
   "cell_type": "markdown",
   "id": "13debaac-97bc-437e-b23d-9365d014ee3d",
   "metadata": {},
   "source": [
    "# Success!"
   ]
  }
 ],
 "metadata": {
  "kernelspec": {
   "display_name": "Python 3",
   "language": "python",
   "name": "python3"
  },
  "language_info": {
   "codemirror_mode": {
    "name": "ipython",
    "version": 3
   },
   "file_extension": ".py",
   "mimetype": "text/x-python",
   "name": "python",
   "nbconvert_exporter": "python",
   "pygments_lexer": "ipython3",
   "version": "3.9.1"
  }
 },
 "nbformat": 4,
 "nbformat_minor": 5
}
