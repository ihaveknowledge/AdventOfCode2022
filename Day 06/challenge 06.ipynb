{
 "cells": [
  {
   "cell_type": "markdown",
   "id": "8b0aa313-3453-4033-8ab7-242411613d5a",
   "metadata": {},
   "source": [
    "# --- Day 6: Tuning Trouble ---\n",
    "\n",
    "The preparations are finally complete; you and the Elves leave camp on foot and begin to make your way toward the __star__  fruit grove.\n",
    "\n",
    "As you move through the dense undergrowth, one of the Elves gives you a handheld device. He says that it has many fancy features, but the most important one to set up right now is the __communication system__.\n",
    "\n",
    "However, because he's heard you have __significant experience dealing with signal-based systems__, he convinced the other Elves that it would be okay to give you their one malfunctioning device - surely you'll have no problem fixing it.\n",
    "\n",
    "As if inspired by comedic timing, the device emits a few colorful sparks.\n",
    "\n",
    "To be able to communicate with the Elves, the device needs to __lock on to their signal__. The signal is a series of seemingly-random characters that the device receives one at a time.\n",
    "\n",
    "To fix the communication system, you need to add a subroutine to the device that detects a __start-of-packet marker__ in the datastream. In the protocol being used by the Elves, the start of a packet is indicated by a sequence of __four characters that are all different.__\n",
    "\n",
    "The device will send your subroutine a datastream buffer (your puzzle input); your subroutine needs to identify the first position where the four most recently received characters were all different. Specifically, it needs to report the number of characters from the beginning of the buffer to the end of the first such four-character marker.\n",
    "\n",
    "For example, suppose you receive the following datastream buffer:\n",
    "\n",
    "`mjqjpqmgbljsphdztnvjfqwrcgsmlb`    \n",
    "\n",
    "After the first three characters (mjq) have been received, there haven't been enough characters received yet to find the marker. The first time a marker could occur is after the fourth character is received, making the most recent four characters mjqj. Because j is repeated, this isn't a marker.\n",
    "\n",
    "The first time a marker appears is after the __seventh__ character arrives. Once it does, the last four characters received are `jpqm`, which are all different. In this case, your subroutine should report the value 7, because the first start-of-packet marker is complete after 7 characters have been processed.\n",
    "\n",
    "Here are a few more examples:\n",
    "\n",
    "`bvwbjplbgvbhsrlpgdmjqwftvncz:` first marker after character `5`    \n",
    "`nppdvjthqldpwncqszvftbrmjlhg:` first marker after character `6`    \n",
    "`nznrnfrfntjfmvfwmzdfjlvtqnbhcprsg:` first marker after character `10`    \n",
    "`zcfzfwzzqfrljwzlrfnpqdbhtmscgvjw:` first marker after character `11`      \n",
    "    \n",
    "__How many characters need to be processed before the first start-of-packet marker is detected?__"
   ]
  },
  {
   "cell_type": "code",
   "execution_count": 57,
   "id": "24448301-222c-4554-ac58-9ff434e1e74d",
   "metadata": {},
   "outputs": [],
   "source": [
    "d = \"\"\"mjqjpqmgbljsphdztnvjfqwrcgsmlb\n",
    "bvwbjplbgvbhsrlpgdmjqwftvncz\n",
    "nppdvjthqldpwncqszvftbrmjlhg\n",
    "nznrnfrfntjfmvfwmzdfjlvtqnbhcprsg\n",
    "zcfzfwzzqfrljwzlrfnpqdbhtmscgvjw\"\"\""
   ]
  },
  {
   "cell_type": "code",
   "execution_count": 79,
   "id": "b7a25963-683f-4b07-bb1d-76e6efa9d58b",
   "metadata": {},
   "outputs": [],
   "source": [
    "def findDuplicate(txt, l):  \n",
    "    \"\"\"\n",
    "    This function seperates out each letter and then looks for letters in the string. If the count is the same as the\n",
    "    number of letters then no duplicates are found and we return True, otherwise at least one duplicate is found and \n",
    "    False is returned\n",
    "    Updated for part 2 to include variable string length\n",
    "    \"\"\"\n",
    "    n = list(txt)\n",
    "    c = 0\n",
    "    for i in range(l):\n",
    "        c += txt.count(n[i])\n",
    "    if c == l:\n",
    "        return True\n",
    "    else:\n",
    "        return False"
   ]
  },
  {
   "cell_type": "code",
   "execution_count": 78,
   "id": "79e74179-4462-45de-a73b-0c068a0d0390",
   "metadata": {},
   "outputs": [],
   "source": [
    "def runSearches(txt, l):\n",
    "    \"\"\"\n",
    "    Takes a string and a length (for part 2 of challenge)\n",
    "    Iterates through the string until it finds a unique set and returns a message\n",
    "    \"\"\"\n",
    "    for i in range(l, len(txt)-l):\n",
    "        if findDuplicate(txt[i-l:i], l):\n",
    "            print(\"Success at \" + str(i))\n",
    "            return i\n",
    "            break"
   ]
  },
  {
   "cell_type": "code",
   "execution_count": 84,
   "id": "bd710f2c-3153-46cf-8e46-8e02f6f58c88",
   "metadata": {},
   "outputs": [
    {
     "name": "stdout",
     "output_type": "stream",
     "text": [
      "Success at 7\n",
      "Success at 5\n",
      "Success at 6\n",
      "Success at 10\n",
      "Success at 11\n"
     ]
    }
   ],
   "source": [
    "for txt in d.split(\"\\n\"):\n",
    "    runSearches(txt, 4)"
   ]
  },
  {
   "cell_type": "code",
   "execution_count": 62,
   "id": "74850627-02e2-4ef2-9e36-6d4b81a52cd2",
   "metadata": {},
   "outputs": [],
   "source": [
    "file = \"challenge 06 input.txt\"\n",
    "with open(file) as f:\n",
    "    challenge6Data = f.read()"
   ]
  },
  {
   "cell_type": "code",
   "execution_count": 72,
   "id": "4b8c7d7b-792f-45ae-b699-f113f385aba3",
   "metadata": {},
   "outputs": [
    {
     "name": "stdout",
     "output_type": "stream",
     "text": [
      "Success at 1987\n"
     ]
    },
    {
     "data": {
      "text/plain": [
       "1987"
      ]
     },
     "execution_count": 72,
     "metadata": {},
     "output_type": "execute_result"
    }
   ],
   "source": [
    "runSearches(challenge6Data, 4)"
   ]
  },
  {
   "cell_type": "markdown",
   "id": "2223da62-790b-41a1-a7f3-2363ac668fbd",
   "metadata": {},
   "source": [
    "# ! SUCCESS !"
   ]
  },
  {
   "cell_type": "markdown",
   "id": "22cca62d-6815-4ee7-a676-c916e41c7917",
   "metadata": {},
   "source": [
    "# --- Part 2 ---\n",
    "Your device's communication system is correctly detecting packets, but still isn't working. It looks like it also needs to look for __messages__.\n",
    "\n",
    "A __start-of-message marker__ is just like a start-of-packet marker, except it consists of __14 distinct characters__ rather than 4.\n",
    "\n",
    "Here are the first positions of start-of-message markers for all of the above examples:\n",
    "\n",
    "`mjqjpqmgbljsphdztnvjfqwrcgsmlb`: first marker after character 19    \n",
    "`bvwbjplbgvbhsrlpgdmjqwftvncz`: first marker after character 23    \n",
    "`nppdvjthqldpwncqszvftbrmjlhg`: first marker after character 23   \n",
    "`nznrnfrfntjfmvfwmzdfjlvtqnbhcprsg`: first marker after character 29    \n",
    "`zcfzfwzzqfrljwzlrfnpqdbhtmscgvjw`: first marker after character 26    \n",
    "\n",
    "__How many characters need to be processed before the first start-of-message marker is detected?__"
   ]
  },
  {
   "cell_type": "markdown",
   "id": "7a651196-7d76-4db3-9694-0abd23d97742",
   "metadata": {},
   "source": [
    "## Updated cod above to allow for variable string length for distinct character"
   ]
  },
  {
   "cell_type": "code",
   "execution_count": 83,
   "id": "e58e678c-9fcc-4239-ad81-1d8ca4087762",
   "metadata": {},
   "outputs": [
    {
     "name": "stdout",
     "output_type": "stream",
     "text": [
      "Success at 3059\n"
     ]
    },
    {
     "data": {
      "text/plain": [
       "3059"
      ]
     },
     "execution_count": 83,
     "metadata": {},
     "output_type": "execute_result"
    }
   ],
   "source": [
    "runSearches(challenge6Data, 14)"
   ]
  }
 ],
 "metadata": {
  "kernelspec": {
   "display_name": "Python 3",
   "language": "python",
   "name": "python3"
  },
  "language_info": {
   "codemirror_mode": {
    "name": "ipython",
    "version": 3
   },
   "file_extension": ".py",
   "mimetype": "text/x-python",
   "name": "python",
   "nbconvert_exporter": "python",
   "pygments_lexer": "ipython3",
   "version": "3.9.1"
  }
 },
 "nbformat": 4,
 "nbformat_minor": 5
}
