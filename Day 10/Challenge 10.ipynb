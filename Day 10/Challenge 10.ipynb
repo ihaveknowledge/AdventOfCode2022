{
 "cells": [
  {
   "cell_type": "markdown",
   "id": "52654210-3410-47db-81fe-ab0b85fb4152",
   "metadata": {},
   "source": [
    "# --- Day 10: Cathode-Ray Tube ---\n",
    "\n",
    "+ addx V takes two cycles to complete. After two cycles, the X register is increased by the value V. (V can be negative.)   \n",
    "+ noop takes one cycle to complete. It has no other effect.   "
   ]
  },
  {
   "cell_type": "code",
   "execution_count": 5,
   "id": "4fbf3d5e-1814-4cf5-933b-b1f1eacf15f2",
   "metadata": {},
   "outputs": [],
   "source": [
    "file = \"test.txt\"\n",
    "with open(file) as f:\n",
    "    d = f.read()\n",
    "instructions = d.split(\"\\n\")"
   ]
  },
  {
   "cell_type": "markdown",
   "id": "3230e678-dd2b-445d-8075-e86251dd885e",
   "metadata": {},
   "source": [
    "__Find the signal strength during the 20th, 60th, 100th, 140th, 180th, and 220th cycles.__"
   ]
  },
  {
   "cell_type": "code",
   "execution_count": 83,
   "id": "2f092b1d-0211-49f0-883b-1bd4466b82bb",
   "metadata": {},
   "outputs": [],
   "source": [
    "x = 1\n",
    "n_cycleX = []\n",
    "cycle = 0\n",
    "n_cycle = [20,60,100,140,180,220]\n",
    "cycle = 0\n",
    "for instruction in instructions:\n",
    "    #noop\n",
    "    if instruction[:4] == \"noop\":\n",
    "        cycle += 1\n",
    "        if cycle in n_cycle:\n",
    "            n_cycleX.append(x * cycle)\n",
    "        \n",
    "    #addx\n",
    "    if instruction[:4] == \"addx\":\n",
    "        for i in range(2):\n",
    "            amount = int(instruction[5:])\n",
    "                        \n",
    "            cycle += 1\n",
    "            if cycle in n_cycle:\n",
    "                n_cycleX.append(x * cycle)\n",
    "            \n",
    "            if i == 1:\n",
    "                #increase x\n",
    "                x += amount\n",
    "     \n",
    "    \n",
    "    \n",
    "    "
   ]
  },
  {
   "cell_type": "code",
   "execution_count": 84,
   "id": "c094e71b-a6d3-4c73-b4c6-acfe37da0384",
   "metadata": {},
   "outputs": [
    {
     "data": {
      "text/plain": [
       "17940"
      ]
     },
     "execution_count": 84,
     "metadata": {},
     "output_type": "execute_result"
    }
   ],
   "source": [
    "sum(n_cycleX)"
   ]
  },
  {
   "cell_type": "code",
   "execution_count": 23,
   "id": "fffc7654-a763-40de-9848-a12962a4d051",
   "metadata": {},
   "outputs": [],
   "source": [
    "file = \"challenge 10 input.txt\"\n",
    "with open(file) as f:\n",
    "    challenge10Data = f.read()"
   ]
  },
  {
   "cell_type": "code",
   "execution_count": 82,
   "id": "899ae15d-44f2-4636-93f1-8926c13f6496",
   "metadata": {},
   "outputs": [],
   "source": [
    "instructions = challenge10Data.split(\"\\n\")"
   ]
  },
  {
   "cell_type": "markdown",
   "id": "d1d2b178-8658-4bd8-88f2-1095c099d8ab",
   "metadata": {},
   "source": [
    "# ! SUCCESS !"
   ]
  },
  {
   "cell_type": "markdown",
   "id": "5519b769-e729-4cab-b64e-142b5773524b",
   "metadata": {},
   "source": [
    "# --- Part 2 ---"
   ]
  },
  {
   "cell_type": "code",
   "execution_count": 3,
   "id": "177bd3b7-3999-4148-9498-4962c2dfe9a4",
   "metadata": {},
   "outputs": [],
   "source": [
    "import numpy as np"
   ]
  },
  {
   "cell_type": "code",
   "execution_count": 4,
   "id": "2ea91a6f-5075-4c1c-bf19-14f344a0abc7",
   "metadata": {},
   "outputs": [],
   "source": [
    "x = 40\n",
    "y = 6\n",
    "shape = (y, x)\n",
    "\n"
   ]
  },
  {
   "cell_type": "code",
   "execution_count": 5,
   "id": "557ca738-35f0-4d20-96d3-9b195a46f1ce",
   "metadata": {},
   "outputs": [],
   "source": [
    "file = \"test.txt\"\n",
    "with open(file) as f:\n",
    "    d = f.read()\n",
    "instructions = d.split(\"\\n\")"
   ]
  },
  {
   "cell_type": "code",
   "execution_count": 6,
   "id": "c5f17c44-9af9-482f-bb97-981a80a3319c",
   "metadata": {},
   "outputs": [],
   "source": [
    "def drawSprite(x, y, sprite):\n",
    "    #draw\n",
    "    if x - 1 <= sprite <=  x + 1:\n",
    "        grid[y,x] = \"#\"\n",
    "    else:\n",
    "        grid[y,x] = \".\""
   ]
  },
  {
   "cell_type": "code",
   "execution_count": 18,
   "id": "5a3a675b-842a-4070-a8e8-6922405d5dc4",
   "metadata": {},
   "outputs": [],
   "source": [
    "x = 40\n",
    "y = 6\n",
    "shape = (y, x)\n",
    "grid = np.array(x*y * [\"\"]).reshape(shape)\n",
    "\n",
    "x = 0 #location that we are drawing x\n",
    "y = 0 #location that we are drawing y\n",
    "sprite = 1 #middle of our 'paddle'\n",
    "\n",
    "        \n",
    "for instruction in instructions:\n",
    "    #noop\n",
    "    if instruction[:4] == \"noop\":\n",
    "        #draw\n",
    "        drawSprite(x,y,sprite)\n",
    "        if x > 38:\n",
    "            x = 0\n",
    "            y += 1\n",
    "        else: \n",
    "            x += 1\n",
    "        \n",
    "    #addx\n",
    "    if instruction[:4] == \"addx\":\n",
    "        for i in range(2):\n",
    "            amount = int(instruction[5:])\n",
    "            \n",
    "            #draw\n",
    "            drawSprite(x,y,sprite)\n",
    "            \n",
    "            if i == 1:\n",
    "                #move paddle\n",
    "                sprite += amount\n",
    "    \n",
    "            if x > 38:\n",
    "                x = 0\n",
    "                y += 1\n",
    "            else: \n",
    "                x += 1\n"
   ]
  },
  {
   "cell_type": "markdown",
   "id": "fda4860a-5051-46f8-806b-0bdbf5314b06",
   "metadata": {},
   "source": [
    "## Load data again"
   ]
  },
  {
   "cell_type": "code",
   "execution_count": 24,
   "id": "bfd7867c-daa9-4e89-8169-455e7a1084de",
   "metadata": {},
   "outputs": [],
   "source": [
    "instructions = challenge10Data.split(\"\\n\")"
   ]
  },
  {
   "cell_type": "code",
   "execution_count": 25,
   "id": "6508a9a7-e54d-44ad-b3e3-e36a5e0b1028",
   "metadata": {},
   "outputs": [],
   "source": [
    "x = 40\n",
    "y = 6\n",
    "shape = (y, x)\n",
    "grid = np.array(x*y * [\"\"]).reshape(shape)\n",
    "\n",
    "x = 0 #location that we are drawing x\n",
    "y = 0 #location that we are drawing y\n",
    "sprite = 1 #middle of our 'paddle'\n",
    "\n",
    "        \n",
    "for instruction in instructions:\n",
    "    #noop\n",
    "    if instruction[:4] == \"noop\":\n",
    "        #draw\n",
    "        drawSprite(x,y,sprite)\n",
    "        if x > 38:\n",
    "            x = 0\n",
    "            y += 1\n",
    "        else: \n",
    "            x += 1\n",
    "        \n",
    "    #addx\n",
    "    if instruction[:4] == \"addx\":\n",
    "        for i in range(2):\n",
    "            amount = int(instruction[5:])\n",
    "            \n",
    "            #draw\n",
    "            drawSprite(x,y,sprite)\n",
    "            \n",
    "            if i == 1:\n",
    "                #move paddle\n",
    "                sprite += amount\n",
    "    \n",
    "            if x > 38:\n",
    "                x = 0\n",
    "                y += 1\n",
    "            else: \n",
    "                x += 1"
   ]
  },
  {
   "cell_type": "code",
   "execution_count": 28,
   "id": "bcc2f032-570f-4be6-b9e8-03bb4e89478f",
   "metadata": {},
   "outputs": [],
   "source": [
    "with open(\"output.txt\", \"w\") as txt_file:\n",
    "    for line in grid:\n",
    "        txt_file.write(\" \".join(line) + \"\\n\") # works with any number of elements in a line"
   ]
  },
  {
   "cell_type": "markdown",
   "id": "cbe14412-59ca-4aad-8266-3afa2b5221a1",
   "metadata": {},
   "source": [
    "# ! SUCCESS !\n",
    "\n",
    "## ZCBAJFJZ"
   ]
  }
 ],
 "metadata": {
  "kernelspec": {
   "display_name": "Python 3",
   "language": "python",
   "name": "python3"
  },
  "language_info": {
   "codemirror_mode": {
    "name": "ipython",
    "version": 3
   },
   "file_extension": ".py",
   "mimetype": "text/x-python",
   "name": "python",
   "nbconvert_exporter": "python",
   "pygments_lexer": "ipython3",
   "version": "3.9.1"
  }
 },
 "nbformat": 4,
 "nbformat_minor": 5
}
