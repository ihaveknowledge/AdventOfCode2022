{
 "cells": [
  {
   "cell_type": "markdown",
   "id": "8b461c1b-822a-463e-88b4-004b7f582d04",
   "metadata": {},
   "source": [
    "# --- Day 9: Rope Bridge ---\n",
    "This rope bridge creaks as you walk along it. You aren't sure how old it is, or whether it can even support your weight.\n",
    "\n",
    "It seems to support the Elves just fine, though. The bridge spans a gorge which was carved out by the massive river far below you.\n",
    "\n",
    "You step carefully; as you do, the ropes stretch and twist. You decide to distract yourself by modeling rope physics; maybe you can even figure out where not to step.\n",
    "\n",
    "Consider a rope with a knot at each end; these knots mark the head and the tail of the rope. If the head moves far enough away from the tail, the tail is pulled toward the head.\n",
    "\n",
    "Due to nebulous reasoning involving Planck lengths, you should be able to model the positions of the knots on a two-dimensional grid. Then, by following a hypothetical series of motions (your puzzle input) for the head, you can determine how the tail will move.\n",
    "\n",
    "Due to the aforementioned Planck lengths, the rope must be quite short; in fact, the head (H) and tail (T) must always be touching (diagonally adjacent and even overlapping both count as touching):\n",
    "\n",
    "You just need to work out where the tail goes as the head follows a series of motions. Assume the head and the tail both start at the same position, overlapping.\n",
    "\n",
    "For example:\n",
    "\n",
    "`R 4`   \n",
    "`U 4`   \n",
    "`L 3`   \n",
    "`D 1`   \n",
    "`R 4`   \n",
    "`D 1`   \n",
    "`L 5`   \n",
    "`R 2`    \n",
    "\n",
    "This series of motions moves the head right four steps, then up four steps, then left three steps, then down one step, and so on. After each step, you'll need to update the position of the tail if the step means the head is no longer adjacent to the tail. Visually, these motions occur as follows (s marks the starting position as a reference point):\n",
    "\n",
    "After simulating the rope, you can count up all of the positions the tail visited at least once. In this diagram, s again marks the starting position (which the tail also visited) and # marks other positions the tail visited:\n",
    "\n",
    "So, there are 13 positions the tail visited at least once.\n",
    "\n",
    "Simulate your complete hypothetical series of motions. How many positions does the tail of the rope visit at least once?"
   ]
  },
  {
   "cell_type": "code",
   "execution_count": 1,
   "id": "177ea518-d778-4641-b992-d631abe1c74f",
   "metadata": {},
   "outputs": [],
   "source": [
    "import numpy as np"
   ]
  },
  {
   "cell_type": "code",
   "execution_count": 2,
   "id": "784f8bb4-ff71-4aac-883a-65e3a10d2715",
   "metadata": {},
   "outputs": [],
   "source": [
    "d = \"\"\"R 4\n",
    "U 4\n",
    "L 3\n",
    "D 1\n",
    "R 4\n",
    "D 1\n",
    "L 5\n",
    "R 2\"\"\""
   ]
  },
  {
   "cell_type": "code",
   "execution_count": 3,
   "id": "1cbf6383-6d71-46c9-b3e7-0140699b88d9",
   "metadata": {},
   "outputs": [],
   "source": [
    "instructions = d.split(\"\\n\")"
   ]
  },
  {
   "cell_type": "code",
   "execution_count": 4,
   "id": "da14e90e-83bf-4868-961f-6a2fa5bce7b9",
   "metadata": {},
   "outputs": [],
   "source": [
    "def howBigIsMyGrid(txt):\n",
    "    \"\"\"\n",
    "    \n",
    "    \"\"\"\n",
    "    width = 1\n",
    "    max_width = 1\n",
    "    min_width = 0\n",
    "    height = 1\n",
    "    max_height = 1\n",
    "    min_height = 0\n",
    "    for instruction in txt.split(\"\\n\"):\n",
    "        direction, amount = instruction.split(\" \")\n",
    "    \n",
    "        if direction == \"R\":\n",
    "            width += int(amount)\n",
    "            if width > max_width:\n",
    "                max_width = width\n",
    "        elif direction == \"L\":\n",
    "            width -= int(amount)\n",
    "            if width < min_width:\n",
    "                min_width = width\n",
    "\n",
    "        elif direction == \"U\":\n",
    "            height += int(amount)\n",
    "            if height > max_height:\n",
    "                max_height = height\n",
    "        else:\n",
    "            height -= int(amount)\n",
    "            if height < min_height:\n",
    "                min_height = height\n",
    "\n",
    "    print(\"dimensions are: Height \" + str(max_height - min_height) + \"start x = \" + str(-1*min_height) + \" Width \" + str(max_width - min_width) + \"start y = \" + str(-1*min_width))"
   ]
  },
  {
   "cell_type": "code",
   "execution_count": 5,
   "id": "d2e6a14d-d843-4489-9ca0-dd4f0ab79653",
   "metadata": {},
   "outputs": [
    {
     "data": {
      "text/plain": [
       "array([[0, 0, 0, 0, 0, 0],\n",
       "       [0, 0, 0, 0, 0, 0],\n",
       "       [0, 0, 0, 0, 0, 0],\n",
       "       [0, 0, 0, 0, 0, 0],\n",
       "       [0, 0, 0, 0, 0, 0]])"
      ]
     },
     "execution_count": 5,
     "metadata": {},
     "output_type": "execute_result"
    }
   ],
   "source": [
    "np.zeros((5, 6), dtype=int)"
   ]
  },
  {
   "cell_type": "code",
   "execution_count": 6,
   "id": "e6f7d69c-6993-41dd-a29f-277865fa108b",
   "metadata": {},
   "outputs": [
    {
     "name": "stdout",
     "output_type": "stream",
     "text": [
      "dimensions are: Height 5start x = 0 Width 6start y = 0\n"
     ]
    }
   ],
   "source": [
    "howBigIsMyGrid(d)"
   ]
  },
  {
   "cell_type": "markdown",
   "id": "8d38eb43-3eb6-4806-ae93-b30fe9f52dbc",
   "metadata": {},
   "source": [
    "## What do we need\n",
    "\n",
    "+ Attributes\n",
    "    + Start position\n",
    "    + Head location\n",
    "    + Tail location\n",
    "    + Grid\n",
    "    + Locations visited by the tail\n",
    "    \n",
    "+ Methods\n",
    "    + Move head\n",
    "    + Move tail\n",
    "\n"
   ]
  },
  {
   "cell_type": "code",
   "execution_count": 7,
   "id": "86b0aef2-f6ea-42d6-8d4e-a25d89d1e82f",
   "metadata": {},
   "outputs": [],
   "source": [
    "#gameBoard = np.zeros((5, 6), dtype=int)"
   ]
  },
  {
   "cell_type": "code",
   "execution_count": 8,
   "id": "e8cb3326-e96e-4b1b-b8f1-9ad22060482c",
   "metadata": {},
   "outputs": [],
   "source": [
    "class Game:\n",
    "    def __init__(self, gameBoard, start):\n",
    "        self.start = start\n",
    "        self.startPosition = self.start\n",
    "        self.headPosition = self.start\n",
    "        self.tailPosition = self.start\n",
    "        self.grid = gameBoard\n",
    "        \n",
    "\n",
    "    def gameStart(self):\n",
    "        self.grid[self.start[0], self.start[0]] = 1\n",
    "    \n",
    "    def moveHead(self, instruction):\n",
    "        direction, amount = instruction.split(\" \")\n",
    "        headLocation = self.headPosition\n",
    "        \n",
    "        #MOVE RIGHT\n",
    "        if direction == \"R\" or direction == \"L\":\n",
    "            verticle = 0\n",
    "            if direction == \"R\":\n",
    "                horizontal = 1\n",
    "                #print(\"Horizontal\")\n",
    "            else:\n",
    "                horizontal = -1\n",
    "        else:\n",
    "            horizontal = 0\n",
    "            if direction == \"U\":\n",
    "                verticle = 1\n",
    "            else:\n",
    "                verticle = -1\n",
    "            \n",
    "        for i in range(int(amount)):\n",
    "            #move head\n",
    "            movement = np.array([verticle, horizontal])\n",
    "            self.headPosition += movement\n",
    "            #print(\"move\")\n",
    "                        \n",
    "            #check tail\n",
    "            diff = self.headPosition - self.tailPosition\n",
    "            # move diagonally\n",
    "            #print(diff[1])\n",
    "           \n",
    "            #up and right\n",
    "            if diff[0] == 2 and diff[1] ==1 or diff[0] == 1 and diff[1] == 2:\n",
    "                self.tailPosition += np.array([1, 1])\n",
    "            \n",
    "            #up and left\n",
    "            elif diff[0] == 2 and diff[1] == -1 or diff[0] == 1 and diff[1] == -2:\n",
    "                #print(\"up and left\")\n",
    "                self.tailPosition += np.array([1, -1])\n",
    "            \n",
    "            #down and right\n",
    "            elif diff[0] == -2 and diff[1] == 1 or diff[0] == -1 and diff[1] == 2:\n",
    "                #print(\"down and right\")\n",
    "                self.tailPosition += np.array([-1, 1])\n",
    "            \n",
    "            #down and left\n",
    "            elif diff[0] == -2 and diff[1] == -1 or diff[0] == -1 and diff[1] == -2:\n",
    "                #print(\"down and left\")\n",
    "                self.tailPosition += np.array([-1, -1])\n",
    "                \n",
    "            \n",
    "            # move left, right, up or down\n",
    "            elif diff[0] == 2: # move down or up\n",
    "                self.tailPosition += np.array([1, 0])\n",
    "            elif diff[0] == -2:\n",
    "                self.tailPosition += np.array([-1, 0]) \n",
    "                \n",
    "            #move tail\n",
    "            elif diff[1] == 2: # move down or up\n",
    "                self.tailPosition += np.array([0, 1])\n",
    "            elif diff[1] == -2:\n",
    "                #print(\"move left\")\n",
    "                self.tailPosition += np.array([0, -1])\n",
    "            \n",
    "            #print(instruction)\n",
    "            #print(self.tailPosition)\n",
    "            self.grid[self.tailPosition[0], self.tailPosition[1]] = 1\n",
    "            \n",
    "            \n",
    "            \n",
    "        \n",
    "        "
   ]
  },
  {
   "cell_type": "code",
   "execution_count": 9,
   "id": "c3f0ac6b-dd00-4037-8ef2-dbd11b8f324f",
   "metadata": {},
   "outputs": [],
   "source": [
    "gameBoard = np.zeros((5,6), dtype = int)"
   ]
  },
  {
   "cell_type": "code",
   "execution_count": 10,
   "id": "5c16169d-ef36-4f5c-a969-26846ed1a672",
   "metadata": {},
   "outputs": [
    {
     "data": {
      "text/plain": [
       "array([[1, 0, 0, 0, 0, 0],\n",
       "       [0, 0, 0, 0, 0, 0],\n",
       "       [0, 0, 0, 0, 0, 0],\n",
       "       [0, 0, 0, 0, 0, 0],\n",
       "       [0, 0, 0, 0, 0, 0]])"
      ]
     },
     "execution_count": 10,
     "metadata": {},
     "output_type": "execute_result"
    }
   ],
   "source": [
    "currentGame = Game(gameBoard, [0,0])\n",
    "currentGame.gameStart()\n",
    "currentGame.grid"
   ]
  },
  {
   "cell_type": "code",
   "execution_count": 11,
   "id": "4b03c519-1e8e-44a0-ba34-96735d1095c1",
   "metadata": {},
   "outputs": [],
   "source": [
    "instructions = d.split(\"\\n\")"
   ]
  },
  {
   "cell_type": "code",
   "execution_count": 12,
   "id": "c8ae831f-f727-41b9-bbe7-ea6761a5ca5b",
   "metadata": {},
   "outputs": [],
   "source": [
    "#print(currentGame.tailPosition)\n",
    "for instruction in instructions:\n",
    "    currentGame.moveHead(instruction)"
   ]
  },
  {
   "cell_type": "code",
   "execution_count": 13,
   "id": "4bcb784f-361a-45f7-bc96-0777017c3448",
   "metadata": {},
   "outputs": [
    {
     "data": {
      "text/plain": [
       "array([[1, 1, 1, 1, 0, 0],\n",
       "       [0, 0, 0, 0, 1, 0],\n",
       "       [0, 1, 1, 1, 1, 0],\n",
       "       [0, 0, 0, 1, 1, 0],\n",
       "       [0, 0, 1, 1, 0, 0]])"
      ]
     },
     "execution_count": 13,
     "metadata": {},
     "output_type": "execute_result"
    }
   ],
   "source": [
    "currentGame.grid"
   ]
  },
  {
   "cell_type": "code",
   "execution_count": 14,
   "id": "5e27bae4-30d1-406c-b5fe-042c47b4e1ff",
   "metadata": {},
   "outputs": [
    {
     "data": {
      "text/plain": [
       "array([2, 2])"
      ]
     },
     "execution_count": 14,
     "metadata": {},
     "output_type": "execute_result"
    }
   ],
   "source": [
    "currentGame.headPosition"
   ]
  },
  {
   "cell_type": "code",
   "execution_count": 15,
   "id": "66d5ce19-1ca4-4899-8032-1431e57d16bf",
   "metadata": {},
   "outputs": [
    {
     "data": {
      "text/plain": [
       "13"
      ]
     },
     "execution_count": 15,
     "metadata": {},
     "output_type": "execute_result"
    }
   ],
   "source": [
    "sum(sum(currentGame.grid))"
   ]
  },
  {
   "cell_type": "markdown",
   "id": "b4a07b57-6ede-4b2a-91aa-7b73fcba13d0",
   "metadata": {},
   "source": [
    "# Challenge data"
   ]
  },
  {
   "cell_type": "code",
   "execution_count": 16,
   "id": "50de6e87-611b-4b5c-b950-38ff6065a3c5",
   "metadata": {},
   "outputs": [],
   "source": [
    "file = \"challenge 09 input.txt\"\n",
    "with open(file) as f:\n",
    "    challenge9Data = f.read()"
   ]
  },
  {
   "cell_type": "code",
   "execution_count": 17,
   "id": "72aa9de2-1369-4635-bca4-a289a8866c8f",
   "metadata": {},
   "outputs": [
    {
     "name": "stdout",
     "output_type": "stream",
     "text": [
      "dimensions are: Height 331start x = 27 Width 257start y = 152\n"
     ]
    }
   ],
   "source": [
    "howBigIsMyGrid(challenge9Data)"
   ]
  },
  {
   "cell_type": "code",
   "execution_count": 18,
   "id": "5b254c5f-a28c-4351-868f-47c0929a358e",
   "metadata": {},
   "outputs": [],
   "source": [
    "gameBoard = np.zeros((330,257), dtype = int)"
   ]
  },
  {
   "cell_type": "code",
   "execution_count": 19,
   "id": "8af97194-6902-4432-8e66-2700cfa0fbcb",
   "metadata": {},
   "outputs": [
    {
     "data": {
      "text/plain": [
       "(330, 257)"
      ]
     },
     "execution_count": 19,
     "metadata": {},
     "output_type": "execute_result"
    }
   ],
   "source": [
    "gameBoard.shape"
   ]
  },
  {
   "cell_type": "code",
   "execution_count": 20,
   "id": "3fb010dd-22a2-4d1b-b522-0c0cdb3abc41",
   "metadata": {},
   "outputs": [],
   "source": [
    "currentGame = Game(gameBoard, [26, 151])\n",
    "currentGame.gameStart()"
   ]
  },
  {
   "cell_type": "code",
   "execution_count": 21,
   "id": "c2bf3c16-5ebb-4fb9-8bf6-3528632fb8cf",
   "metadata": {},
   "outputs": [
    {
     "data": {
      "text/plain": [
       "1"
      ]
     },
     "execution_count": 21,
     "metadata": {},
     "output_type": "execute_result"
    }
   ],
   "source": [
    "sum(sum(currentGame.grid))"
   ]
  },
  {
   "cell_type": "code",
   "execution_count": 22,
   "id": "4bb1170a-168b-4d17-b308-ee5e26e38754",
   "metadata": {},
   "outputs": [],
   "source": [
    "instructions = challenge9Data.split(\"\\n\")"
   ]
  },
  {
   "cell_type": "code",
   "execution_count": 23,
   "id": "4aff4c9f-0a2a-488d-98c1-476291b5acd4",
   "metadata": {},
   "outputs": [],
   "source": [
    "#print(currentGame.tailPosition)\n",
    "for instruction in instructions:\n",
    "    #print(instruction)\n",
    "    currentGame.moveHead(instruction)\n",
    "    #print(currentGame.headPosition)"
   ]
  },
  {
   "cell_type": "code",
   "execution_count": 24,
   "id": "2ea7c76a-d743-41b0-b119-d9bc2e12cbad",
   "metadata": {},
   "outputs": [
    {
     "data": {
      "text/plain": [
       "6271"
      ]
     },
     "execution_count": 24,
     "metadata": {},
     "output_type": "execute_result"
    }
   ],
   "source": [
    "sum(sum(currentGame.grid))-1"
   ]
  },
  {
   "cell_type": "markdown",
   "id": "22914da2-33d0-4d98-b7d4-74a08e66ec80",
   "metadata": {},
   "source": [
    "# --- Part 2 ---"
   ]
  },
  {
   "cell_type": "markdown",
   "id": "ea8e1e67-0e40-4c94-b861-1041169e85f8",
   "metadata": {},
   "source": [
    "A rope snaps! Suddenly, the river is getting a lot closer than you remember. The bridge is still there, but some of the ropes that broke are now whipping toward you as you fall through the air!\n",
    "\n",
    "The ropes are moving too quickly to grab; you only have a few seconds to choose how to arch your body to avoid being hit. Fortunately, your simulation can be extended to support longer ropes.\n",
    "\n",
    "Rather than two knots, you now must simulate a rope consisting of ten knots. One knot is still the head of the rope and moves according to the series of motions. Each knot further down the rope follows the knot in front of it using the same rules as before.\n",
    "\n",
    "Now, you need to keep track of the positions the new tail, 9, visits. In this example, the tail never moves, and so it only visits 1 position. However, be careful: more types of motion are possible than before, so you might want to visually compare your simulated rope to the one above.\n",
    "\n",
    "Now, the tail (9) visits 36 positions (including s) at least once.\n",
    "\n",
    "Simulate your complete series of motions on a larger rope with ten knots. __How many positions does the tail of the rope visit at least once?__"
   ]
  },
  {
   "cell_type": "code",
   "execution_count": 90,
   "id": "6c549526-57ba-4a40-8c25-6b253aee50d4",
   "metadata": {},
   "outputs": [],
   "source": [
    "class Game:\n",
    "    def __init__(self, gameBoard, start):\n",
    "        self.start = start\n",
    "        self.startPosition = self.start\n",
    "        self.headPosition = self.start\n",
    "        self.tailPosition = []\n",
    "        self.grid = gameBoard\n",
    "        \n",
    "\n",
    "    def gameStart(self):\n",
    "        self.grid[self.start[0], self.start[0]] = 1\n",
    "        for i in range(9):\n",
    "            self.tailPosition.append(self.start)\n",
    "    \n",
    "    def moveHead(self, instruction):\n",
    "        direction, amount = instruction.split(\" \")\n",
    "        headLocation = self.headPosition\n",
    "\n",
    "        #MOVE RIGHT\n",
    "        if direction == \"R\" or direction == \"L\":\n",
    "            verticle = 0\n",
    "            if direction == \"R\":\n",
    "                horizontal = 1\n",
    "                #print(\"Horizontal\")\n",
    "            else:\n",
    "                horizontal = -1\n",
    "        else:\n",
    "            horizontal = 0\n",
    "            if direction == \"U\":\n",
    "                verticle = 1\n",
    "            else:\n",
    "                verticle = -1\n",
    "        \n",
    "                \n",
    "                \n",
    "        for j in range(int(amount)):\n",
    "            for i in range(9):\n",
    "                if i == 0:\n",
    "                    headLocation = self.headPosition\n",
    "\n",
    "                    #move head\n",
    "                    movement = np.array([verticle, horizontal])\n",
    "                    headLocation += movement\n",
    "                    #print(\"move\")\n",
    "\n",
    "                else:\n",
    "                    headLocation = self.tailPosition[i-1]\n",
    "\n",
    "                #check tail\n",
    "                diff = headLocation - self.tailPosition[i]\n",
    "                # move diagonally\n",
    "                #print(diff[1])\n",
    "                if diff[0] == 0 and diff[1] == 0:\n",
    "                    #print(\"Don't move\")\n",
    "                    i\n",
    "                #up and right\n",
    "                elif diff[0] == 2 and diff[1] ==1 or diff[0] == 1 and diff[1] == 2:\n",
    "                    self.tailPosition[i] += np.array([1, 1])\n",
    "\n",
    "                #up and left\n",
    "                elif diff[0] == 2 and diff[1] == -1 or diff[0] == 1 and diff[1] == -2:\n",
    "                    #print(\"up and left\")\n",
    "                    self.tailPosition[i] += np.array([1, -1])\n",
    "\n",
    "                #down and right\n",
    "                elif diff[0] == -2 and diff[1] == 1 or diff[0] == -1 and diff[1] == 2:\n",
    "                    #print(\"down and right\")\n",
    "                    self.tailPosition[i] += np.array([-1, 1])\n",
    "\n",
    "                #down and left\n",
    "                elif diff[0] == -2 and diff[1] == -1 or diff[0] == -1 and diff[1] == -2:\n",
    "                    #print(\"down and left\")\n",
    "                    self.tailPosition[i] += np.array([-1, -1])\n",
    "\n",
    "\n",
    "                # move left, right, up or down\n",
    "                elif diff[0] == 2: # move down or up\n",
    "                    self.tailPosition[i] += np.array([1, 0])\n",
    "                elif diff[0] == -2:\n",
    "                    self.tailPosition[i] += np.array([-1, 0]) \n",
    "\n",
    "                #move tail\n",
    "                elif diff[1] == 2: # move down or up\n",
    "                    self.tailPosition[i] += np.array([0, 1])\n",
    "                elif diff[1] == -2:\n",
    "                    #print(\"move left\")\n",
    "                    self.tailPosition[i] += np.array([0, -1])\n",
    "\n",
    "                if i == 8:\n",
    "                    #print(instruction)\n",
    "                    #print(self.tailPosition[i])\n",
    "                    #print(self.tailPosition[i-1])\n",
    "                    t = self.tailPosition[i]\n",
    "                    #print(t)\n",
    "                    self.grid[t[0], t[1]] = 1\n",
    "            "
   ]
  },
  {
   "cell_type": "code",
   "execution_count": 91,
   "id": "5dbeb6a2-653a-4591-b6a3-82896234e62e",
   "metadata": {},
   "outputs": [
    {
     "data": {
      "text/plain": [
       "array([0, 0])"
      ]
     },
     "execution_count": 91,
     "metadata": {},
     "output_type": "execute_result"
    }
   ],
   "source": [
    "currentGame.tailPosition[1] - currentGame.tailPosition[2]"
   ]
  },
  {
   "cell_type": "code",
   "execution_count": 92,
   "id": "8d3affdb-efff-4118-88ee-2287ae8560ab",
   "metadata": {},
   "outputs": [],
   "source": [
    "gameBoard = np.zeros((330,257), dtype = int)\n",
    "currentGame = Game(gameBoard, np.array([26, 151]))\n",
    "currentGame.gameStart()"
   ]
  },
  {
   "cell_type": "code",
   "execution_count": 93,
   "id": "8adb8d5e-9911-4652-a320-f846f09ae450",
   "metadata": {
    "tags": []
   },
   "outputs": [],
   "source": [
    "#print(currentGame.tailPosition)\n",
    "for instruction in instructions:\n",
    "    #print(instruction)\n",
    "    currentGame.moveHead(instruction)\n",
    "    #print(currentGame.headPosition)"
   ]
  },
  {
   "cell_type": "code",
   "execution_count": 94,
   "id": "65022d46-0142-4689-95da-68167153312c",
   "metadata": {},
   "outputs": [
    {
     "data": {
      "text/plain": [
       "array([303,  85])"
      ]
     },
     "execution_count": 94,
     "metadata": {},
     "output_type": "execute_result"
    }
   ],
   "source": [
    "currentGame.headPosition"
   ]
  },
  {
   "cell_type": "code",
   "execution_count": 95,
   "id": "1408d998-4f6b-4df4-850e-584e82e56d3d",
   "metadata": {},
   "outputs": [
    {
     "data": {
      "text/plain": [
       "7149"
      ]
     },
     "execution_count": 95,
     "metadata": {},
     "output_type": "execute_result"
    }
   ],
   "source": [
    "sum(sum(currentGame.grid))"
   ]
  }
 ],
 "metadata": {
  "kernelspec": {
   "display_name": "Python 3",
   "language": "python",
   "name": "python3"
  },
  "language_info": {
   "codemirror_mode": {
    "name": "ipython",
    "version": 3
   },
   "file_extension": ".py",
   "mimetype": "text/x-python",
   "name": "python",
   "nbconvert_exporter": "python",
   "pygments_lexer": "ipython3",
   "version": "3.9.1"
  }
 },
 "nbformat": 4,
 "nbformat_minor": 5
}
