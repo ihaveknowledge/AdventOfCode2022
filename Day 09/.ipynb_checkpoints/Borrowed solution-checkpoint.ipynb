{
 "cells": [
  {
   "cell_type": "code",
   "execution_count": 3,
   "id": "67e254e3-901e-47b1-88ae-81e668260047",
   "metadata": {},
   "outputs": [
    {
     "name": "stdout",
     "output_type": "stream",
     "text": [
      "6271\n",
      "2458\n"
     ]
    }
   ],
   "source": [
    "#!/usr/bin/python3\n",
    "import sys\n",
    "from collections import defaultdict\n",
    "infile = \"challenge 09 input.txt\"\n",
    "data = open(infile).read().strip()\n",
    "lines = [x for x in data.split('\\n')]\n",
    "\n",
    "def adjust(H,T):\n",
    "    dr = (H[0]-T[0])\n",
    "    dc = (H[1]-T[1])\n",
    "    if abs(dr)<=1 and abs(dc)<=1:\n",
    "        # ok\n",
    "        pass\n",
    "    elif abs(dr)>=2 and abs(dc)>=2:\n",
    "        #2       2       2 \n",
    "        # 1   ->  1   ->  .   -> 2\n",
    "        #  H       .H      1H     1H\n",
    "        T = (H[0]-1 if T[0]<H[0] else H[0]+1, H[1]-1 if T[1]<H[1] else H[1]+1)\n",
    "    elif abs(dr)>=2:\n",
    "        # T     T       .\n",
    "        #  H ->  .H  ->  TH\n",
    "        T = (H[0]-1 if T[0]<H[0] else H[0]+1, H[1])\n",
    "    elif abs(dc)>=2:\n",
    "        T = (H[0], H[1]-1 if T[1]<H[1] else H[1]+1)\n",
    "    return T\n",
    "\n",
    "H = (0,0)\n",
    "T = [(0,0) for _ in range(9)]\n",
    "DR = {'L': 0, 'U': -1, 'R': 0, 'D': 1}\n",
    "DC = {'L': -1, 'U': 0, 'R': 1, 'D': 0}\n",
    "P1 = set([T[0]])\n",
    "P2 = set([T[8]])\n",
    "for line in lines:\n",
    "    d,amt = line.split()\n",
    "    amt = int(amt)\n",
    "    for _ in range(amt):\n",
    "        H = (H[0] + DR[d], H[1]+DC[d])\n",
    "        T[0] = adjust(H, T[0])\n",
    "        for i in range(1, 9):\n",
    "            T[i] = adjust(T[i-1], T[i])\n",
    "        P1.add(T[0])\n",
    "        P2.add(T[8])\n",
    "print(len(P1))\n",
    "print(len(P2))"
   ]
  }
 ],
 "metadata": {
  "kernelspec": {
   "display_name": "Python 3",
   "language": "python",
   "name": "python3"
  },
  "language_info": {
   "codemirror_mode": {
    "name": "ipython",
    "version": 3
   },
   "file_extension": ".py",
   "mimetype": "text/x-python",
   "name": "python",
   "nbconvert_exporter": "python",
   "pygments_lexer": "ipython3",
   "version": "3.9.1"
  }
 },
 "nbformat": 4,
 "nbformat_minor": 5
}
