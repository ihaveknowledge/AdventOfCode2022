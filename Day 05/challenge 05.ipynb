{
 "cells": [
  {
   "cell_type": "markdown",
   "id": "dba3ebf9-e11f-4623-beaa-af3891dd46e2",
   "metadata": {},
   "source": [
    "# --- Day 5: Supply Stacks ---\n",
    "The expedition can depart as soon as the final supplies have been unloaded from the ships. Supplies are stored in stacks of marked crates, but because the needed supplies are buried under many other crates, the crates need to be rearranged.\n",
    "\n",
    "The ship has a giant cargo crane capable of moving crates between stacks. To ensure none of the crates get crushed or fall over, the crane operator will rearrange them in a series of carefully-planned steps. After the crates are rearranged, the desired crates will be at the top of each stack.\n",
    "\n",
    "The Elves don't want to interrupt the crane operator during this delicate procedure, but they forgot to ask her which crate will end up where, and they want to be ready to unload them as soon as possible so they can embark.\n",
    "\n",
    "They do, however, have a drawing of the starting stacks of crates and the rearrangement procedure (your puzzle input). For example:\n",
    "\n",
    "`    [D]    `   \n",
    "`[N] [C]    `   \n",
    "`[Z] [M] [P]`   \n",
    "` 1   2   3 `   \n",
    "\n",
    "move 1 from 2 to 1\n",
    "move 3 from 1 to 3\n",
    "move 2 from 2 to 1\n",
    "move 1 from 1 to 2\n",
    "In this example, there are three stacks of crates. Stack 1 contains two crates: crate Z is on the bottom, and crate N is on top. Stack 2 contains three crates; from bottom to top, they are crates M, C, and D. Finally, stack 3 contains a single crate, P.\n",
    "\n",
    "Then, the rearrangement procedure is given. In each step of the procedure, a quantity of crates is moved from one stack to a different stack. In the first step of the above rearrangement procedure, one crate is moved from stack 2 to stack 1, resulting in this configuration:\n",
    "\n",
    "`[D]        `   \n",
    "`[N] [C]    `   \n",
    "`[Z] [M] [P]`   \n",
    "` 1   2   3 `   \n",
    "In the second step, three crates are moved from stack 1 to stack 3. Crates are moved __one at a time__, so the first crate to be moved (D) ends up below the second and third crates:\n",
    "\n",
    "`        [Z]`    \n",
    "`        [N]`   \n",
    "`    [C] [D]`   \n",
    "`    [M] [P]`   \n",
    "` 1   2   3`   \n",
    "Then, both crates are moved from stack 2 to stack 1. Again, because crates are moved __one at a time__, crate C ends up below crate M:\n",
    "\n",
    "`        [Z]`   \n",
    "`        [N]`   \n",
    "`[M]     [D]`   \n",
    "`[C]     [P]`   \n",
    "` 1   2   3`   \n",
    "Finally, one crate is moved from stack 1 to stack 2:\n",
    "\n",
    "`        [Z]`   \n",
    "`        [N]`   \n",
    "`        [D]`   \n",
    "`[C] [M] [P]`   \n",
    "` 1   2   3`   \n",
    "The Elves just need to know __which crate will end up on top of each stack__; in this example, the top crates are C in stack 1, M in stack 2, and Z in stack 3, so you should combine these together and give the Elves the message `CMZ`.\n",
    "\n",
    "__After the rearrangement procedure completes, what crate ends up on top of each stack?__"
   ]
  },
  {
   "cell_type": "code",
   "execution_count": 132,
   "id": "eaf0f103-9f56-4d0a-acce-eeca47bacfe5",
   "metadata": {},
   "outputs": [],
   "source": [
    "import string\n",
    "import re"
   ]
  },
  {
   "cell_type": "code",
   "execution_count": 130,
   "id": "c9aa4b14-17c2-43b9-8256-94db6e7e23bd",
   "metadata": {},
   "outputs": [],
   "source": [
    "d = \"\"\"    [D]    \n",
    "[N] [C]    \n",
    "[Z] [M] [P]\n",
    " 1   2   3 \n",
    "\n",
    "move 1 from 2 to 1\n",
    "move 3 from 1 to 3\n",
    "move 2 from 2 to 1\n",
    "move 1 from 1 to 2\"\"\""
   ]
  },
  {
   "cell_type": "code",
   "execution_count": 18,
   "id": "2bf9cc69-7adb-47e7-8ba9-a6137dd52d68",
   "metadata": {},
   "outputs": [
    {
     "name": "stdout",
     "output_type": "stream",
     "text": [
      "    [D]    \n",
      "[N] [C]    \n",
      "[Z] [M] [P]\n",
      " 1   2   3 \n"
     ]
    }
   ],
   "source": [
    "for layer in d.split(\"\\n\\n\")[0].split(\"\\n\"):\n",
    "    print(layer)\n",
    "#stack 1 = 1\n",
    "#stack 2 = 5\n",
    "#stack 3 = 9"
   ]
  },
  {
   "cell_type": "code",
   "execution_count": 158,
   "id": "ca0ac707-1a79-46d4-a03d-16624251dd14",
   "metadata": {},
   "outputs": [],
   "source": [
    "def createStacks(txt, positions):\n",
    "    stacks = txt.split(\"\\n\\n\")[0].split(\"\\n\")\n",
    "    stackS = []\n",
    "    for j in positions:\n",
    "        currentStack = []\n",
    "        for i in reversed(range(4)):\n",
    "            item = stacks[i][j]\n",
    "            if item in string.ascii_uppercase:\n",
    "                currentStack.append(item)\n",
    "        stackS.append(currentStack)\n",
    "    return stackS"
   ]
  },
  {
   "cell_type": "code",
   "execution_count": 116,
   "id": "efc233d1-aa5f-44f7-ac6d-4c612f5e5ecb",
   "metadata": {},
   "outputs": [],
   "source": [
    "def moveItems(fromStack, toStack, noItems):\n",
    "    for i in range(noItems):\n",
    "        #get item\n",
    "        container = fromStack[-1]\n",
    "        #remove from stack\n",
    "        fromStack.pop(-1)\n",
    "        #add to new stack\n",
    "        toStack.append(container)\n",
    "        #return item\n",
    "    return fromStack, toStack"
   ]
  },
  {
   "cell_type": "markdown",
   "id": "a2072747-0abc-4dd1-ac55-5c940fc571be",
   "metadata": {},
   "source": [
    "# Load the instructions"
   ]
  },
  {
   "cell_type": "code",
   "execution_count": 134,
   "id": "d2a896a1-972c-4042-9996-b49eef07f74b",
   "metadata": {},
   "outputs": [],
   "source": [
    "def getNumbers(str):\n",
    "    array = re.findall(r'[0-9]+', str)\n",
    "    return array \n"
   ]
  },
  {
   "cell_type": "code",
   "execution_count": 138,
   "id": "7efb4947-7d79-4971-a3a1-83eb420251bb",
   "metadata": {},
   "outputs": [
    {
     "data": {
      "text/plain": [
       "'move 1 from 2 to 1'"
      ]
     },
     "execution_count": 138,
     "metadata": {},
     "output_type": "execute_result"
    }
   ],
   "source": [
    "d.split(\"\\n\\n\")[1].split(\"\\n\")[0]"
   ]
  },
  {
   "cell_type": "code",
   "execution_count": 159,
   "id": "dddedf0a-8f10-4097-bf4a-27b10848d483",
   "metadata": {},
   "outputs": [],
   "source": [
    "stackS = createStacks(d, [1,5,9])"
   ]
  },
  {
   "cell_type": "code",
   "execution_count": 160,
   "id": "4004d2ff-bf74-49fc-8f61-c3d030b2bf3d",
   "metadata": {},
   "outputs": [
    {
     "name": "stdout",
     "output_type": "stream",
     "text": [
      "[['Z', 'N', 'D'], ['M', 'C'], ['P']]\n",
      "[[], ['M', 'C'], ['P', 'D', 'N', 'Z']]\n",
      "[['C', 'M'], [], ['P', 'D', 'N', 'Z']]\n",
      "[['C'], ['M'], ['P', 'D', 'N', 'Z']]\n",
      "C\n",
      "M\n",
      "Z\n"
     ]
    }
   ],
   "source": [
    "for instruction in d.split(\"\\n\\n\")[1].split(\"\\n\"):\n",
    "    moveBoxes, fromStack, toStack =  map(int, getNumbers(instruction))\n",
    "    moveItems(stackS[fromStack-1], stackS[toStack-1], moveBoxes)\n",
    "    print(stackS)\n",
    "\n",
    "for stack in stackS:\n",
    "    print(stack[-1])"
   ]
  },
  {
   "cell_type": "markdown",
   "id": "514c1f77-230f-4649-a7d6-8c40f38a6930",
   "metadata": {},
   "source": [
    "## ! SUCCESS TRAINING DATA RETURNED CORRECT RESPONCE !"
   ]
  },
  {
   "cell_type": "code",
   "execution_count": 161,
   "id": "8035bb01-c697-48c1-a354-7fdcf6f673a1",
   "metadata": {},
   "outputs": [
    {
     "data": {
      "text/plain": [
       "[['C'], ['M'], ['P', 'D', 'N', 'Z']]"
      ]
     },
     "execution_count": 161,
     "metadata": {},
     "output_type": "execute_result"
    }
   ],
   "source": [
    "stackS"
   ]
  },
  {
   "cell_type": "markdown",
   "id": "d7305a13-7d4e-465e-9871-a60476cbec8d",
   "metadata": {},
   "source": [
    "## Read in challenge input"
   ]
  },
  {
   "cell_type": "code",
   "execution_count": 164,
   "id": "071c7bbe-f3bb-4835-893d-f57c1f270e2f",
   "metadata": {},
   "outputs": [
    {
     "ename": "FileNotFoundError",
     "evalue": "[Errno 2] No such file or directory: 'challenge 05 input.txt'",
     "output_type": "error",
     "traceback": [
      "\u001b[1;31m---------------------------------------------------------------------------\u001b[0m",
      "\u001b[1;31mFileNotFoundError\u001b[0m                         Traceback (most recent call last)",
      "\u001b[1;32m<ipython-input-164-cad907de9f5b>\u001b[0m in \u001b[0;36m<module>\u001b[1;34m\u001b[0m\n\u001b[0;32m      1\u001b[0m \u001b[0mfile\u001b[0m \u001b[1;33m=\u001b[0m \u001b[1;34m\"challenge 05 input.txt\"\u001b[0m\u001b[1;33m\u001b[0m\u001b[1;33m\u001b[0m\u001b[0m\n\u001b[1;32m----> 2\u001b[1;33m \u001b[1;32mwith\u001b[0m \u001b[0mopen\u001b[0m\u001b[1;33m(\u001b[0m\u001b[0mfile\u001b[0m\u001b[1;33m)\u001b[0m \u001b[1;32mas\u001b[0m \u001b[0mf\u001b[0m\u001b[1;33m:\u001b[0m\u001b[1;33m\u001b[0m\u001b[1;33m\u001b[0m\u001b[0m\n\u001b[0m\u001b[0;32m      3\u001b[0m     \u001b[0mchallenge5Data\u001b[0m \u001b[1;33m=\u001b[0m \u001b[0mf\u001b[0m\u001b[1;33m.\u001b[0m\u001b[0mread\u001b[0m\u001b[1;33m(\u001b[0m\u001b[1;33m)\u001b[0m\u001b[1;33m\u001b[0m\u001b[1;33m\u001b[0m\u001b[0m\n",
      "\u001b[1;31mFileNotFoundError\u001b[0m: [Errno 2] No such file or directory: 'challenge 05 input.txt'"
     ]
    }
   ],
   "source": [
    "file = \"challenge 05 input.txt\"\n",
    "with open(file) as f:\n",
    "    challenge5Data = f.read()"
   ]
  },
  {
   "cell_type": "code",
   "execution_count": null,
   "id": "a1785e95-7cee-44da-aeb0-cc91ae6094a1",
   "metadata": {},
   "outputs": [],
   "source": [
    "#full data\n",
    "\n",
    "# stacks\n",
    "#seperate and create stacks\n",
    "\n",
    "# instructions\n",
    "\n"
   ]
  },
  {
   "cell_type": "code",
   "execution_count": null,
   "id": "2ba49735-9425-44c1-91d7-22aadd91e0cd",
   "metadata": {},
   "outputs": [],
   "source": []
  },
  {
   "cell_type": "code",
   "execution_count": null,
   "id": "b0dc0e7d-3004-4979-8dc1-c01ec556ba11",
   "metadata": {},
   "outputs": [],
   "source": []
  }
 ],
 "metadata": {
  "kernelspec": {
   "display_name": "Python 3",
   "language": "python",
   "name": "python3"
  },
  "language_info": {
   "codemirror_mode": {
    "name": "ipython",
    "version": 3
   },
   "file_extension": ".py",
   "mimetype": "text/x-python",
   "name": "python",
   "nbconvert_exporter": "python",
   "pygments_lexer": "ipython3",
   "version": "3.9.1"
  }
 },
 "nbformat": 4,
 "nbformat_minor": 5
}
