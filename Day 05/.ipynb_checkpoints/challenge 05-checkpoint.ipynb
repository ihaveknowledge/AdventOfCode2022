{
 "cells": [
  {
   "cell_type": "markdown",
   "id": "dba3ebf9-e11f-4623-beaa-af3891dd46e2",
   "metadata": {},
   "source": [
    "# --- Day 5: Supply Stacks ---\n",
    "The expedition can depart as soon as the final supplies have been unloaded from the ships. Supplies are stored in stacks of marked crates, but because the needed supplies are buried under many other crates, the crates need to be rearranged.\n",
    "\n",
    "The ship has a giant cargo crane capable of moving crates between stacks. To ensure none of the crates get crushed or fall over, the crane operator will rearrange them in a series of carefully-planned steps. After the crates are rearranged, the desired crates will be at the top of each stack.\n",
    "\n",
    "The Elves don't want to interrupt the crane operator during this delicate procedure, but they forgot to ask her which crate will end up where, and they want to be ready to unload them as soon as possible so they can embark.\n",
    "\n",
    "They do, however, have a drawing of the starting stacks of crates and the rearrangement procedure (your puzzle input). For example:\n",
    "\n",
    "`    [D]    `   \n",
    "`[N] [C]    `   \n",
    "`[Z] [M] [P]`   \n",
    "` 1   2   3 `   \n",
    "\n",
    "move 1 from 2 to 1\n",
    "move 3 from 1 to 3\n",
    "move 2 from 2 to 1\n",
    "move 1 from 1 to 2\n",
    "In this example, there are three stacks of crates. Stack 1 contains two crates: crate Z is on the bottom, and crate N is on top. Stack 2 contains three crates; from bottom to top, they are crates M, C, and D. Finally, stack 3 contains a single crate, P.\n",
    "\n",
    "Then, the rearrangement procedure is given. In each step of the procedure, a quantity of crates is moved from one stack to a different stack. In the first step of the above rearrangement procedure, one crate is moved from stack 2 to stack 1, resulting in this configuration:\n",
    "\n",
    "`[D]        `   \n",
    "`[N] [C]    `   \n",
    "`[Z] [M] [P]`   \n",
    "` 1   2   3 `   \n",
    "In the second step, three crates are moved from stack 1 to stack 3. Crates are moved __one at a time__, so the first crate to be moved (D) ends up below the second and third crates:\n",
    "\n",
    "`        [Z]`    \n",
    "`        [N]`   \n",
    "`    [C] [D]`   \n",
    "`    [M] [P]`   \n",
    "` 1   2   3`   \n",
    "Then, both crates are moved from stack 2 to stack 1. Again, because crates are moved __one at a time__, crate C ends up below crate M:\n",
    "\n",
    "`        [Z]`   \n",
    "`        [N]`   \n",
    "`[M]     [D]`   \n",
    "`[C]     [P]`   \n",
    "` 1   2   3`   \n",
    "Finally, one crate is moved from stack 1 to stack 2:\n",
    "\n",
    "`        [Z]`   \n",
    "`        [N]`   \n",
    "`        [D]`   \n",
    "`[C] [M] [P]`   \n",
    "` 1   2   3`   \n",
    "The Elves just need to know __which crate will end up on top of each stack__; in this example, the top crates are C in stack 1, M in stack 2, and Z in stack 3, so you should combine these together and give the Elves the message `CMZ`.\n",
    "\n",
    "__After the rearrangement procedure completes, what crate ends up on top of each stack?__"
   ]
  },
  {
   "cell_type": "code",
   "execution_count": 1,
   "id": "eaf0f103-9f56-4d0a-acce-eeca47bacfe5",
   "metadata": {},
   "outputs": [],
   "source": [
    "import string\n",
    "import re"
   ]
  },
  {
   "cell_type": "code",
   "execution_count": 2,
   "id": "c9aa4b14-17c2-43b9-8256-94db6e7e23bd",
   "metadata": {},
   "outputs": [],
   "source": [
    "d = \"\"\"    [D]    \n",
    "[N] [C]    \n",
    "[Z] [M] [P]\n",
    " 1   2   3 \n",
    "\n",
    "move 1 from 2 to 1\n",
    "move 3 from 1 to 3\n",
    "move 2 from 2 to 1\n",
    "move 1 from 1 to 2\"\"\""
   ]
  },
  {
   "cell_type": "code",
   "execution_count": 3,
   "id": "2bf9cc69-7adb-47e7-8ba9-a6137dd52d68",
   "metadata": {},
   "outputs": [
    {
     "name": "stdout",
     "output_type": "stream",
     "text": [
      "    [D]    \n",
      "[N] [C]    \n",
      "[Z] [M] [P]\n",
      " 1   2   3 \n"
     ]
    }
   ],
   "source": [
    "for layer in d.split(\"\\n\\n\")[0].split(\"\\n\"):\n",
    "    print(layer)\n",
    "#stack 1 = 1\n",
    "#stack 2 = 5\n",
    "#stack 3 = 9"
   ]
  },
  {
   "cell_type": "code",
   "execution_count": 4,
   "id": "ca0ac707-1a79-46d4-a03d-16624251dd14",
   "metadata": {},
   "outputs": [],
   "source": [
    "def createStacks(txt, positions, l):\n",
    "    stacks = txt.split(\"\\n\\n\")[0].split(\"\\n\")\n",
    "    stackS = []\n",
    "    for j in positions:\n",
    "        currentStack = []\n",
    "        for i in reversed(range(l)):\n",
    "            item = stacks[i][j]\n",
    "            if item in string.ascii_uppercase:\n",
    "                currentStack.append(item)\n",
    "        stackS.append(currentStack)\n",
    "    return stackS"
   ]
  },
  {
   "cell_type": "code",
   "execution_count": 5,
   "id": "efc233d1-aa5f-44f7-ac6d-4c612f5e5ecb",
   "metadata": {},
   "outputs": [],
   "source": [
    "def moveItems(fromStack, toStack, noItems):\n",
    "    for i in range(noItems):\n",
    "        #get item\n",
    "        container = fromStack[-1]\n",
    "        #remove from stack\n",
    "        fromStack.pop(-1)\n",
    "        #add to new stack\n",
    "        toStack.append(container)\n",
    "        #return item\n",
    "    return fromStack, toStack"
   ]
  },
  {
   "cell_type": "markdown",
   "id": "a2072747-0abc-4dd1-ac55-5c940fc571be",
   "metadata": {},
   "source": [
    "# Load the instructions"
   ]
  },
  {
   "cell_type": "code",
   "execution_count": 6,
   "id": "d2a896a1-972c-4042-9996-b49eef07f74b",
   "metadata": {},
   "outputs": [],
   "source": [
    "def getNumbers(str):\n",
    "    array = re.findall(r'[0-9]+', str)\n",
    "    return array \n"
   ]
  },
  {
   "cell_type": "code",
   "execution_count": 7,
   "id": "7efb4947-7d79-4971-a3a1-83eb420251bb",
   "metadata": {},
   "outputs": [
    {
     "data": {
      "text/plain": [
       "'move 1 from 2 to 1'"
      ]
     },
     "execution_count": 7,
     "metadata": {},
     "output_type": "execute_result"
    }
   ],
   "source": [
    "d.split(\"\\n\\n\")[1].split(\"\\n\")[0]"
   ]
  },
  {
   "cell_type": "code",
   "execution_count": 8,
   "id": "dddedf0a-8f10-4097-bf4a-27b10848d483",
   "metadata": {},
   "outputs": [],
   "source": [
    "stackS = createStacks(d, [1,5,9], 4)"
   ]
  },
  {
   "cell_type": "code",
   "execution_count": 9,
   "id": "4004d2ff-bf74-49fc-8f61-c3d030b2bf3d",
   "metadata": {},
   "outputs": [
    {
     "name": "stdout",
     "output_type": "stream",
     "text": [
      "[['Z', 'N', 'D'], ['M', 'C'], ['P']]\n",
      "[[], ['M', 'C'], ['P', 'D', 'N', 'Z']]\n",
      "[['C', 'M'], [], ['P', 'D', 'N', 'Z']]\n",
      "[['C'], ['M'], ['P', 'D', 'N', 'Z']]\n",
      "C\n",
      "M\n",
      "Z\n"
     ]
    }
   ],
   "source": [
    "for instruction in d.split(\"\\n\\n\")[1].split(\"\\n\"):\n",
    "    moveBoxes, fromStack, toStack =  map(int, getNumbers(instruction))\n",
    "    moveItems(stackS[fromStack-1], stackS[toStack-1], moveBoxes)\n",
    "    print(stackS)\n",
    "\n",
    "for stack in stackS:\n",
    "    print(stack[-1])"
   ]
  },
  {
   "cell_type": "markdown",
   "id": "514c1f77-230f-4649-a7d6-8c40f38a6930",
   "metadata": {},
   "source": [
    "## ! SUCCESS TRAINING DATA RETURNED CORRECT RESPONCE !"
   ]
  },
  {
   "cell_type": "code",
   "execution_count": 10,
   "id": "8035bb01-c697-48c1-a354-7fdcf6f673a1",
   "metadata": {},
   "outputs": [
    {
     "data": {
      "text/plain": [
       "[['C'], ['M'], ['P', 'D', 'N', 'Z']]"
      ]
     },
     "execution_count": 10,
     "metadata": {},
     "output_type": "execute_result"
    }
   ],
   "source": [
    "stackS"
   ]
  },
  {
   "cell_type": "markdown",
   "id": "d7305a13-7d4e-465e-9871-a60476cbec8d",
   "metadata": {},
   "source": [
    "## Read in challenge input"
   ]
  },
  {
   "cell_type": "code",
   "execution_count": 11,
   "id": "071c7bbe-f3bb-4835-893d-f57c1f270e2f",
   "metadata": {},
   "outputs": [],
   "source": [
    "file = \"challenge 05 input.txt\"\n",
    "with open(file) as f:\n",
    "    challenge5Data = f.read()"
   ]
  },
  {
   "cell_type": "code",
   "execution_count": 12,
   "id": "98827093-49be-4c51-9c90-f3bca10982b4",
   "metadata": {},
   "outputs": [
    {
     "name": "stdout",
     "output_type": "stream",
     "text": [
      "[1, 5, 9, 13, 17, 21, 25, 29, 33]\n"
     ]
    }
   ],
   "source": [
    "#find the position of the 'containers'\n",
    "positions = []\n",
    "i = 1\n",
    "while i < 34:\n",
    "    positions.append(i)\n",
    "    i += 4\n",
    "    \n",
    "print(positions)"
   ]
  },
  {
   "cell_type": "code",
   "execution_count": 13,
   "id": "a1785e95-7cee-44da-aeb0-cc91ae6094a1",
   "metadata": {},
   "outputs": [],
   "source": [
    "#full data\n",
    "# stacks\n",
    "stackS = createStacks(challenge5Data, positions, 9)"
   ]
  },
  {
   "cell_type": "code",
   "execution_count": 14,
   "id": "2ba49735-9425-44c1-91d7-22aadd91e0cd",
   "metadata": {},
   "outputs": [
    {
     "data": {
      "text/plain": [
       "[['F', 'C', 'J', 'P', 'H', 'T', 'W'],\n",
       " ['G', 'R', 'V', 'F', 'Z', 'J', 'B', 'H'],\n",
       " ['H', 'P', 'T', 'R'],\n",
       " ['Z', 'S', 'N', 'P', 'H', 'T'],\n",
       " ['N', 'V', 'F', 'Z', 'H', 'J', 'C', 'D'],\n",
       " ['P', 'M', 'G', 'F', 'W', 'D', 'Z'],\n",
       " ['M', 'V', 'Z', 'W', 'S', 'J', 'D', 'P'],\n",
       " ['N', 'D', 'S'],\n",
       " ['D', 'Z', 'S', 'F', 'M']]"
      ]
     },
     "execution_count": 14,
     "metadata": {},
     "output_type": "execute_result"
    }
   ],
   "source": [
    "stackS"
   ]
  },
  {
   "cell_type": "code",
   "execution_count": 15,
   "id": "b0dc0e7d-3004-4979-8dc1-c01ec556ba11",
   "metadata": {},
   "outputs": [
    {
     "name": "stdout",
     "output_type": "stream",
     "text": [
      "S\n",
      "P\n",
      "F\n",
      "M\n",
      "V\n",
      "D\n",
      "T\n",
      "Z\n",
      "T\n"
     ]
    }
   ],
   "source": [
    "for instruction in challenge5Data.split(\"\\n\\n\")[1].split(\"\\n\"):\n",
    "    moveBoxes, fromStack, toStack =  map(int, getNumbers(instruction))\n",
    "    moveItems(stackS[fromStack-1], stackS[toStack-1], moveBoxes)\n",
    "    #print(stackS)\n",
    "\n",
    "for stack in stackS:\n",
    "    print(stack[-1])"
   ]
  },
  {
   "cell_type": "markdown",
   "id": "19350c67-f4c2-40e8-82d4-44f04b3e68d0",
   "metadata": {},
   "source": [
    "# ! SUCCESS !"
   ]
  },
  {
   "cell_type": "markdown",
   "id": "66eb74e1-b6cb-4baa-a17c-90de55a89c14",
   "metadata": {},
   "source": [
    "# --- Part 2 ---   \n",
    "As you watch the crane operator expertly rearrange the crates, you notice the process isn't following your prediction.\n",
    "\n",
    "Some mud was covering the writing on the side of the crane, and you quickly wipe it away. The crane isn't a CrateMover 9000 - it's a __CrateMover 9001__.\n",
    "\n",
    "The CrateMover 9001 is notable for many new and exciting features: air conditioning, leather seats, an extra cup holder, and __the ability to pick up and move multiple crates at once.__\n",
    "\n",
    "Again considering the example above, the crates begin in the same configuration:\n",
    "\n",
    "`    [D]    `    \n",
    "`[N] [C]    `   \n",
    "`[Z] [M] [P]`    \n",
    "` 1   2   3 `    \n",
    "Moving a single crate from stack 2 to stack 1 behaves the same as before:\n",
    "\n",
    "`[D]        `    \n",
    "`[N] [C]    `    \n",
    "`[Z] [M] [P]`    \n",
    "` 1   2   3 `   \n",
    "However, the action of moving three crates from stack 1 to stack 3 means that those three moved crates __stay in the same order__, resulting in this new configuration:\n",
    "\n",
    "`        [D]`   \n",
    "`        [N]`   \n",
    "`    [C] [Z]`   \n",
    "`    [M] [P]`   \n",
    "` 1   2   3`   \n",
    "Next, as both crates are moved from stack 2 to stack 1, they __retain their order__ as well:\n",
    "\n",
    "`        [D]`   \n",
    "`        [N]`   \n",
    "`[C]     [Z]`   \n",
    "`[M]     [P]`    \n",
    "` 1   2   3`   \n",
    "Finally, a single crate is still moved from stack 1 to stack 2, but now it's crate C that gets moved:\n",
    "\n",
    "`        [D]`   \n",
    "`        [N]`   \n",
    "`        [Z]`   \n",
    "`[M] [C] [P]`   \n",
    "` 1   2   3`   \n",
    "In this example, the CrateMover 9001 has put the crates in a totally different order: `MCD`.\n",
    "\n",
    "Before the rearrangement process finishes, update your simulation so that the Elves know where they should stand to be ready to unload the final supplies. __After the rearrangement procedure completes, what crate ends up on top of each stack?__"
   ]
  },
  {
   "cell_type": "code",
   "execution_count": 41,
   "id": "e0f032a5-c26f-49d6-9a30-408e537f9c4d",
   "metadata": {},
   "outputs": [],
   "source": [
    "def moveItems(fromStack, toStack, noItems):\n",
    "    #create array to hold items when moving\n",
    "    holding = []\n",
    "    for i in range(noItems):\n",
    "        #print(fromStack)\n",
    "        holding.append(fromStack[-1])\n",
    "        fromStack.pop(-1)\n",
    "        \n",
    "    for i in range(noItems):\n",
    "        toStack.append(holding[-1])\n",
    "        holding.pop(-1)\n",
    "        \n",
    "        #return item\n",
    "    return fromStack, toStack"
   ]
  },
  {
   "cell_type": "code",
   "execution_count": 43,
   "id": "7c763483-f98c-4844-9715-d4de02d48736",
   "metadata": {
    "tags": []
   },
   "outputs": [
    {
     "name": "stdout",
     "output_type": "stream",
     "text": [
      "Z\n",
      "F\n",
      "S\n",
      "J\n",
      "B\n",
      "P\n",
      "R\n",
      "F\n",
      "P\n"
     ]
    }
   ],
   "source": [
    "#create stacks again\n",
    "stackS = createStacks(challenge5Data, positions, 9)\n",
    "#move containers\n",
    "for instruction in challenge5Data.split(\"\\n\\n\")[1].split(\"\\n\"):\n",
    "    moveBoxes, fromStack, toStack =  map(int, getNumbers(instruction))\n",
    "    moveItems(stackS[fromStack-1], stackS[toStack-1], moveBoxes)\n",
    "    #print(stackS)\n",
    "\n",
    "#print top\n",
    "for stack in stackS:\n",
    "    print(stack[-1])"
   ]
  }
 ],
 "metadata": {
  "kernelspec": {
   "display_name": "Python 3",
   "language": "python",
   "name": "python3"
  },
  "language_info": {
   "codemirror_mode": {
    "name": "ipython",
    "version": 3
   },
   "file_extension": ".py",
   "mimetype": "text/x-python",
   "name": "python",
   "nbconvert_exporter": "python",
   "pygments_lexer": "ipython3",
   "version": "3.9.1"
  }
 },
 "nbformat": 4,
 "nbformat_minor": 5
}
