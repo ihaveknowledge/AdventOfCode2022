{
 "cells": [
  {
   "cell_type": "markdown",
   "id": "338a28d3-a679-433e-9dc9-863ca8569c8b",
   "metadata": {},
   "source": [
    "# --- Day 8: Treetop Tree House ---\n",
    "The expedition comes across a peculiar patch of tall trees all planted carefully in a grid. The Elves explain that a previous expedition planted these trees as a reforestation effort. Now, they're curious if this would be a good location for a __tree house__.\n",
    "\n",
    "First, determine whether there is enough tree cover here to keep a tree house __hidden__. To do this, you need to count the number of trees that are __visible from outside the grid__ when looking directly along a row or column.\n",
    "\n",
    "The Elves have already launched a __quadcopter__ to generate a map with the height of each tree (your puzzle input). For example:\n",
    "\n",
    "`30373`   \n",
    "`25512`   \n",
    "`65332`   \n",
    "`33549`   \n",
    "`35390`   \n",
    "\n",
    "Each tree is represented as a single digit whose value is its height, where `0` is the shortest and `9` is the tallest.\n",
    "\n",
    "A tree is __visible__ if all of the other trees between it and an edge of the grid are __shorter__ than it. Only consider trees in the same row or column; that is, only look up, down, left, or right from any given tree.\n",
    "\n",
    "All of the trees around the edge of the grid are visible - since they are already on the edge, there are no trees to block the view. In this example, that only leaves the interior nine trees to consider:\n",
    "\n",
    "+ The top-left `5` is visible from the left and top. (It isn't visible from the right or bottom since other trees of height `5` are in the way.)   \n",
    "+ The top-middle `5` is visible from the top and right.   \n",
    "+ The top-right `1` is not visible from any direction; for it to be visible, there would need to only be trees of height `0` between it and an edge.   \n",
    "+ The left-middle `5` is visible, but only from the right.   \n",
    "+ The center `3` is not visible from any direction; for it to be visible, there would need to be only trees of at most height `2` between it and an edge.   \n",
    "+ The right-middle `3` is visible from the right.   \n",
    "+ In the bottom row, the middle `5` is visible, but the `3` and `4` are not.      \n",
    "   \n",
    "With 16 trees visible on the edge and another 5 visible in the interior, a total of `21` trees are visible in this arrangement.\n",
    "\n",
    "Consider your map; __how many trees are visible from outside the grid?__"
   ]
  },
  {
   "cell_type": "code",
   "execution_count": 1,
   "id": "fb0a1aa8-489b-4a2b-b105-0592be378ecc",
   "metadata": {},
   "outputs": [],
   "source": [
    "import numpy as np"
   ]
  },
  {
   "cell_type": "code",
   "execution_count": 2,
   "id": "b0d756d1-e1b6-41c3-9dc6-24ad8fc04ed5",
   "metadata": {},
   "outputs": [],
   "source": [
    "d = \"\"\"30373\n",
    "25512\n",
    "65332\n",
    "33549\n",
    "35390\"\"\""
   ]
  },
  {
   "cell_type": "code",
   "execution_count": 90,
   "id": "4213604b-91a3-4136-b96e-61b66cf360bb",
   "metadata": {},
   "outputs": [
    {
     "data": {
      "text/plain": [
       "(5, 5)"
      ]
     },
     "execution_count": 90,
     "metadata": {},
     "output_type": "execute_result"
    }
   ],
   "source": [
    "input = d.split(\"\\n\")\n",
    "height = len(input)\n",
    "width = len(input[0])\n",
    "trees = np.array([list(map(int, i)) for i in input])\n",
    "\n",
    "trees.shape"
   ]
  },
  {
   "cell_type": "code",
   "execution_count": 4,
   "id": "6be303f1-3c1b-470b-8048-e0052eeb3fd0",
   "metadata": {},
   "outputs": [
    {
     "data": {
      "text/plain": [
       "array([[5, 5, 1],\n",
       "       [5, 3, 3],\n",
       "       [3, 5, 4]])"
      ]
     },
     "execution_count": 4,
     "metadata": {},
     "output_type": "execute_result"
    }
   ],
   "source": [
    "#extract the middle of the matrix\n",
    "trees[1:-1, 1:-1]"
   ]
  },
  {
   "cell_type": "code",
   "execution_count": 5,
   "id": "2799042c-4147-499b-977c-897df56c62c5",
   "metadata": {},
   "outputs": [],
   "source": [
    "outsideTrees = sum(trees.shape * 2) - 4"
   ]
  },
  {
   "cell_type": "code",
   "execution_count": 15,
   "id": "b6f6ae10-d8d0-485e-9d29-77adf28fd27e",
   "metadata": {},
   "outputs": [],
   "source": [
    "def treeVisible(grove, x, y):\n",
    "    #tree value\n",
    "    tree1Value = grove[[y],[x]][0]\n",
    "    \n",
    "    #check north\n",
    "    #extract values north of tree\n",
    "    north = grove[:y , x]\n",
    "\n",
    "    #check south\n",
    "    #extract values south of tree\n",
    "    south = grove[y+1:, x]\n",
    "        \n",
    "    #check east \n",
    "    #extract values east of tree\n",
    "    east = grove[y, x+1:]\n",
    "        \n",
    "    #check west\n",
    "    #extract values west of tree\n",
    "    west = grove[y, :x]\n",
    "        \n",
    "    if True in (north >= tree1Value) and True in (east >= tree1Value) and True in (south >= tree1Value) and True in (west >= tree1Value):\n",
    "        return 0\n",
    "    else:\n",
    "        return 1\n",
    "    "
   ]
  },
  {
   "cell_type": "code",
   "execution_count": 7,
   "id": "59c6fbba-38f0-419f-9e00-aa790102b8f7",
   "metadata": {},
   "outputs": [
    {
     "name": "stdout",
     "output_type": "stream",
     "text": [
      "There are 5 on the inside and 16 on the outside for a total of 21\n"
     ]
    }
   ],
   "source": [
    "visibleTrees = 0\n",
    "for i in range(1,4):\n",
    "    for j in range(1,4):\n",
    "        visibleTrees += treeVisible(grove = trees, x=i, y=j)\n",
    "\n",
    "print(\"There are \" + str(visibleTrees) + \" on the inside and \" + str(outsideTrees) + \" on the outside for a total of \" + str(visibleTrees + outsideTrees))\n",
    "\n"
   ]
  },
  {
   "cell_type": "markdown",
   "id": "5b98dfa0-a399-43e0-a630-64ece0868e6c",
   "metadata": {},
   "source": [
    "# Read in challenge data"
   ]
  },
  {
   "cell_type": "code",
   "execution_count": 8,
   "id": "8b3925e8-48e2-4f90-a7bf-12c7120eb96f",
   "metadata": {},
   "outputs": [],
   "source": [
    "file = \"challenge 08 input.txt\"\n",
    "with open(file) as f:\n",
    "    challenge8Data = f.read()"
   ]
  },
  {
   "cell_type": "code",
   "execution_count": 9,
   "id": "31bfb440-187b-409e-8cc6-3ffd0386ebc7",
   "metadata": {},
   "outputs": [],
   "source": [
    "input = challenge8Data.split(\"\\n\")\n",
    "height = len(input)\n",
    "width = len(input[0])\n",
    "\n",
    "for i in input:\n",
    "    trees = np.array([list(map(int,i)) for i in input])\n",
    "#trees"
   ]
  },
  {
   "cell_type": "code",
   "execution_count": 10,
   "id": "6cad1010-b6e6-490b-bb81-e290a4289ab5",
   "metadata": {},
   "outputs": [
    {
     "data": {
      "text/plain": [
       "99"
      ]
     },
     "execution_count": 10,
     "metadata": {},
     "output_type": "execute_result"
    }
   ],
   "source": [
    "width"
   ]
  },
  {
   "cell_type": "code",
   "execution_count": 11,
   "id": "ba02582e-699d-40c2-8036-05fac1433014",
   "metadata": {},
   "outputs": [],
   "source": [
    "outsideTrees = sum(trees.shape * 2) - 4"
   ]
  },
  {
   "cell_type": "code",
   "execution_count": 12,
   "id": "f306d2f5-8bf2-40ec-beb2-ea9d0d42e908",
   "metadata": {},
   "outputs": [
    {
     "name": "stdout",
     "output_type": "stream",
     "text": [
      "There are 1424 on the inside and 392 on the outside for a total of 1816\n"
     ]
    }
   ],
   "source": [
    "visibleTrees = 0\n",
    "for i in range(1,98):\n",
    "    for j in range(1,98):\n",
    "        visibleTrees += treeVisible(grove = trees, x=i, y=j)\n",
    "\n",
    "print(\"There are \" + str(visibleTrees) + \" on the inside and \" + str(outsideTrees) + \" on the outside for a total of \" + str(visibleTrees + outsideTrees))\n",
    "\n"
   ]
  },
  {
   "cell_type": "markdown",
   "id": "6ee38528-fb83-4ded-b138-9fe8689192d3",
   "metadata": {},
   "source": [
    "# --- Part Two ---\n",
    "Content with the amount of tree cover available, the Elves just need to know the best spot to build their tree house: they would like to be able to see a lot of __trees__.\n",
    "\n",
    "To measure the viewing distance from a given tree, look up, down, left, and right from that tree; stop if you reach an edge or at the first tree that is the same height or taller than the tree under consideration. (If a tree is right on the edge, at least one of its viewing distances will be zero.)\n",
    "\n",
    "The Elves don't care about distant trees taller than those found by the rules above; the proposed tree house has large _eaves_ to keep it dry, so they wouldn't be able to see higher than the tree house anyway.\n",
    "\n",
    "In the example above, consider the middle 5 in the second row:\n",
    "\n",
    "`30373`   \n",
    "`25512`   \n",
    "`65332`   \n",
    "`33549`   \n",
    "`35390`   \n",
    "\n",
    "+ Looking up, its view is not blocked; it can see 1 tree (of height 3)   \n",
    "+ Looking left, its view is blocked immediately; it can see only 1 tree (of height 5, right next to it)   \n",
    "+ Looking right, its view is not blocked; it can see 2 trees   \n",
    "+ Looking down, its view is blocked eventually; it can see 2 trees (one of height 3, then the tree of height 5 that blocks its view)   \n",
    "\n",
    "A tree's __scenic score__ is found by __multiplying together__ its viewing distance in each of the four directions. For this tree, this is 4 (found by multiplying `1 * 1 * 2 * 2`).\n",
    "\n",
    "However, you can do even better: consider the tree of height 5 in the middle of the fourth row:  \n",
    "\n",
    "`30373`   \n",
    "`25512`   \n",
    "`65332`   \n",
    "`33549`   \n",
    "`35390`   \n",
    "\n",
    "+ Looking up, its view is blocked at `2` trees (by another tree with a height of `5`)   \n",
    "+ Looking left, its view is not blocked; it can see `2` trees   \n",
    "+ Looking down, its view is also not blocked; it can see `1` tree   \n",
    "+ Looking right, its view is blocked at `2` trees (by a massive tree of height 9)   \n",
    "\n",
    "This tree's scenic score is `8` (`2 * 2 * 1 * 2`); this is the ideal spot for the tree house.\n",
    "\n",
    "Consider each tree on your map. __What is the highest scenic score possible for any tree?__"
   ]
  },
  {
   "cell_type": "markdown",
   "id": "b8057cb3-2acf-4dc1-8565-4226a0acfd9f",
   "metadata": {},
   "source": [
    "## Reload training trees"
   ]
  },
  {
   "cell_type": "code",
   "execution_count": 17,
   "id": "c0596eb4-e40b-4f7f-9b85-a7dc23e82c60",
   "metadata": {},
   "outputs": [
    {
     "data": {
      "text/plain": [
       "array([[3, 0, 3, 7, 3],\n",
       "       [2, 5, 5, 1, 2],\n",
       "       [6, 5, 3, 3, 2],\n",
       "       [3, 3, 5, 4, 9],\n",
       "       [3, 5, 3, 9, 0]])"
      ]
     },
     "execution_count": 17,
     "metadata": {},
     "output_type": "execute_result"
    }
   ],
   "source": [
    "input = d.split(\"\\n\")\n",
    "height = len(input)\n",
    "width = len(input[0])\n",
    "trees = np.array([list(map(int, i)) for i in input])\n",
    "\n",
    "trees"
   ]
  },
  {
   "cell_type": "markdown",
   "id": "845d5f83-fcf1-4635-8c6e-1b63ae1c43d0",
   "metadata": {},
   "source": [
    "### New function to assess the quality of the view"
   ]
  },
  {
   "cell_type": "code",
   "execution_count": 81,
   "id": "61b94719-0ffc-4080-abff-5a332ceec48b",
   "metadata": {},
   "outputs": [],
   "source": [
    "def howsTheView(view, treeValue):\n",
    "    scenicScore = 0\n",
    "    for v in view:\n",
    "        if v < tree1Value:\n",
    "            scenicScore += 1\n",
    "        else:\n",
    "            scenicScore += 1\n",
    "            break\n",
    "    return scenicScore"
   ]
  },
  {
   "cell_type": "code",
   "execution_count": 84,
   "id": "68e6cf4c-1c10-4e72-9884-01683a017ad9",
   "metadata": {},
   "outputs": [],
   "source": [
    "def treeView(grove, x, y):\n",
    "    \n",
    "    #scenic score\n",
    "    scenicScoreAll = 1\n",
    "    \n",
    "    #tree value\n",
    "    tree1Value = grove[[y],[x]][0]\n",
    "    \n",
    "    #check north\n",
    "    #extract values north of tree\n",
    "    north = grove[:y , x][::-1]\n",
    "    scenicScoreAll = scenicScoreAll * howsTheView(north, tree1Value)\n",
    "\n",
    "    #check west\n",
    "    #extract values west of tree\n",
    "    west = grove[y, :x][::-1]\n",
    "    scenicScoreAll = scenicScoreAll *  howsTheView(west, tree1Value)\n",
    "\n",
    "    #check south\n",
    "    #extract values south of tree\n",
    "    south = grove[y+1:, x]\n",
    "    scenicScoreAll = scenicScoreAll * howsTheView(south, tree1Value)\n",
    "    \n",
    "    #check east \n",
    "    #extract values east of tree\n",
    "    east = grove[y, x+1:]\n",
    "    scenicScoreAll = scenicScoreAll *  howsTheView(east, tree1Value)\n",
    "    \n",
    "    return scenicScoreAll"
   ]
  },
  {
   "cell_type": "code",
   "execution_count": 85,
   "id": "2415be7a-9add-4403-a26e-21474252338d",
   "metadata": {},
   "outputs": [
    {
     "data": {
      "text/plain": [
       "8"
      ]
     },
     "execution_count": 85,
     "metadata": {},
     "output_type": "execute_result"
    }
   ],
   "source": [
    "treeViewValues = treeView(trees, x = 2, y = 3)\n",
    "treeViewValues"
   ]
  },
  {
   "cell_type": "markdown",
   "id": "93b7e0ec-6323-46ab-a1f4-9285fab4dc3e",
   "metadata": {},
   "source": [
    "### Test training data"
   ]
  },
  {
   "cell_type": "code",
   "execution_count": 94,
   "id": "bb363c0d-4fc4-4512-a077-31013955963b",
   "metadata": {},
   "outputs": [
    {
     "data": {
      "text/plain": [
       "(5, 5)"
      ]
     },
     "execution_count": 94,
     "metadata": {},
     "output_type": "execute_result"
    }
   ],
   "source": [
    "input = d.split(\"\\n\")\n",
    "height = len(input)\n",
    "width = len(input[0])\n",
    "trees = np.array([list(map(int, i)) for i in input])\n",
    "\n",
    "trees.shape"
   ]
  },
  {
   "cell_type": "code",
   "execution_count": 95,
   "id": "f3007c82-f20c-40f1-b572-50429fb3a96e",
   "metadata": {},
   "outputs": [
    {
     "data": {
      "text/plain": [
       "8"
      ]
     },
     "execution_count": 95,
     "metadata": {},
     "output_type": "execute_result"
    }
   ],
   "source": [
    "highestScenicScore = 0\n",
    "for i in range(5):\n",
    "    for j in range(5):\n",
    "        currentTreeScenicScore = treeView(grove = trees, x = i, y = j)\n",
    "        if currentTreeScenicScore > highestScenicScore:\n",
    "            highestScenicScore = currentTreeScenicScore\n",
    "highestScenicScore"
   ]
  },
  {
   "cell_type": "code",
   "execution_count": null,
   "id": "642c1b86-2208-446a-ba51-f634c03d0bea",
   "metadata": {},
   "outputs": [],
   "source": []
  },
  {
   "cell_type": "markdown",
   "id": "cb2ae7a3-afbc-44d0-914a-acc79d4157e1",
   "metadata": {},
   "source": [
    "### Test real data"
   ]
  },
  {
   "cell_type": "code",
   "execution_count": 99,
   "id": "d8befa95-d794-4e8b-a1db-cc6ac8643458",
   "metadata": {},
   "outputs": [
    {
     "data": {
      "text/plain": [
       "(99, 99)"
      ]
     },
     "execution_count": 99,
     "metadata": {},
     "output_type": "execute_result"
    }
   ],
   "source": [
    "input = challenge8Data.split(\"\\n\")\n",
    "height = len(input)\n",
    "width = len(input[0])\n",
    "\n",
    "for i in input:\n",
    "    trees = np.array([list(map(int,i)) for i in input])\n",
    "trees.shape"
   ]
  },
  {
   "cell_type": "code",
   "execution_count": 100,
   "id": "b888c4c4-0e2b-4591-9aa4-4e5feb7df5e8",
   "metadata": {},
   "outputs": [
    {
     "data": {
      "text/plain": [
       "58080"
      ]
     },
     "execution_count": 100,
     "metadata": {},
     "output_type": "execute_result"
    }
   ],
   "source": [
    "highestScenicScore = 0\n",
    "for i in range(99):\n",
    "    for j in range(99):\n",
    "        currentTreeScenicScore = treeView(grove = trees, x = i, y = j)\n",
    "        if currentTreeScenicScore > highestScenicScore:\n",
    "            highestScenicScore = currentTreeScenicScore\n",
    "\n",
    "highestScenicScore"
   ]
  },
  {
   "cell_type": "markdown",
   "id": "7b8a33f8-4412-4934-bdbf-f0784a726766",
   "metadata": {},
   "source": [
    "## Answer should be\n",
    "383,520"
   ]
  }
 ],
 "metadata": {
  "kernelspec": {
   "display_name": "Python 3",
   "language": "python",
   "name": "python3"
  },
  "language_info": {
   "codemirror_mode": {
    "name": "ipython",
    "version": 3
   },
   "file_extension": ".py",
   "mimetype": "text/x-python",
   "name": "python",
   "nbconvert_exporter": "python",
   "pygments_lexer": "ipython3",
   "version": "3.9.1"
  }
 },
 "nbformat": 4,
 "nbformat_minor": 5
}
