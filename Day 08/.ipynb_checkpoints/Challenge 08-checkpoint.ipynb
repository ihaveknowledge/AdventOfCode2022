{
 "cells": [
  {
   "cell_type": "markdown",
   "id": "338a28d3-a679-433e-9dc9-863ca8569c8b",
   "metadata": {},
   "source": [
    "# --- Day 8: Treetop Tree House ---\n",
    "The expedition comes across a peculiar patch of tall trees all planted carefully in a grid. The Elves explain that a previous expedition planted these trees as a reforestation effort. Now, they're curious if this would be a good location for a __tree house__.\n",
    "\n",
    "First, determine whether there is enough tree cover here to keep a tree house __hidden__. To do this, you need to count the number of trees that are __visible from outside the grid__ when looking directly along a row or column.\n",
    "\n",
    "The Elves have already launched a __quadcopter__ to generate a map with the height of each tree (your puzzle input). For example:\n",
    "\n",
    "`30373`   \n",
    "`25512`   \n",
    "`65332`   \n",
    "`33549`   \n",
    "`35390`   \n",
    "\n",
    "Each tree is represented as a single digit whose value is its height, where `0` is the shortest and `9` is the tallest.\n",
    "\n",
    "A tree is __visible__ if all of the other trees between it and an edge of the grid are __shorter__ than it. Only consider trees in the same row or column; that is, only look up, down, left, or right from any given tree.\n",
    "\n",
    "All of the trees around the edge of the grid are visible - since they are already on the edge, there are no trees to block the view. In this example, that only leaves the interior nine trees to consider:\n",
    "\n",
    "+ The top-left `5` is visible from the left and top. (It isn't visible from the right or bottom since other trees of height `5` are in the way.)   \n",
    "+ The top-middle `5` is visible from the top and right.   \n",
    "+ The top-right `1` is not visible from any direction; for it to be visible, there would need to only be trees of height `0` between it and an edge.   \n",
    "+ The left-middle `5` is visible, but only from the right.   \n",
    "+ The center `3` is not visible from any direction; for it to be visible, there would need to be only trees of at most height `2` between it and an edge.   \n",
    "+ The right-middle `3` is visible from the right.   \n",
    "+ In the bottom row, the middle `5` is visible, but the `3` and `4` are not.      \n",
    "   \n",
    "With 16 trees visible on the edge and another 5 visible in the interior, a total of `21` trees are visible in this arrangement.\n",
    "\n",
    "Consider your map; __how many trees are visible from outside the grid?__"
   ]
  },
  {
   "cell_type": "code",
   "execution_count": 1,
   "id": "fb0a1aa8-489b-4a2b-b105-0592be378ecc",
   "metadata": {},
   "outputs": [],
   "source": [
    "import numpy as np"
   ]
  },
  {
   "cell_type": "code",
   "execution_count": 2,
   "id": "b0d756d1-e1b6-41c3-9dc6-24ad8fc04ed5",
   "metadata": {},
   "outputs": [],
   "source": [
    "d = \"\"\"30373\n",
    "25512\n",
    "65332\n",
    "33549\n",
    "35390\"\"\""
   ]
  },
  {
   "cell_type": "code",
   "execution_count": 3,
   "id": "4213604b-91a3-4136-b96e-61b66cf360bb",
   "metadata": {},
   "outputs": [
    {
     "data": {
      "text/plain": [
       "matrix([[3, 0, 3, 7, 3],\n",
       "        [2, 5, 5, 1, 2],\n",
       "        [6, 5, 3, 3, 2],\n",
       "        [3, 3, 5, 4, 9],\n",
       "        [3, 5, 3, 9, 0]])"
      ]
     },
     "execution_count": 3,
     "metadata": {},
     "output_type": "execute_result"
    }
   ],
   "source": [
    "input = d.split(\"\\n\")\n",
    "height = len(input)\n",
    "width = len(input[0])\n",
    "matrix = np.matrix([list(map(int, i)) for i in input])\n",
    "\n",
    "matrix"
   ]
  },
  {
   "cell_type": "code",
   "execution_count": 4,
   "id": "6be303f1-3c1b-470b-8048-e0052eeb3fd0",
   "metadata": {},
   "outputs": [
    {
     "data": {
      "text/plain": [
       "matrix([[5, 5, 1],\n",
       "        [5, 3, 3],\n",
       "        [3, 5, 4]])"
      ]
     },
     "execution_count": 4,
     "metadata": {},
     "output_type": "execute_result"
    }
   ],
   "source": [
    "#extract the middle of the matrix\n",
    "matrix[1:-1, 1:-1]"
   ]
  },
  {
   "cell_type": "code",
   "execution_count": 5,
   "id": "2799042c-4147-499b-977c-897df56c62c5",
   "metadata": {},
   "outputs": [],
   "source": [
    "outsideTrees = sum(matrix.shape * 2) - 4"
   ]
  },
  {
   "cell_type": "code",
   "execution_count": null,
   "id": "17d4c008-661a-4b1f-8c80-945939b60b81",
   "metadata": {},
   "outputs": [],
   "source": []
  },
  {
   "cell_type": "code",
   "execution_count": null,
   "id": "59c6fbba-38f0-419f-9e00-aa790102b8f7",
   "metadata": {},
   "outputs": [],
   "source": []
  }
 ],
 "metadata": {
  "kernelspec": {
   "display_name": "Python 3",
   "language": "python",
   "name": "python3"
  },
  "language_info": {
   "codemirror_mode": {
    "name": "ipython",
    "version": 3
   },
   "file_extension": ".py",
   "mimetype": "text/x-python",
   "name": "python",
   "nbconvert_exporter": "python",
   "pygments_lexer": "ipython3",
   "version": "3.9.1"
  }
 },
 "nbformat": 4,
 "nbformat_minor": 5
}
