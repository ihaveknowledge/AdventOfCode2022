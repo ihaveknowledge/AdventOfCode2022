{
 "cells": [
  {
   "cell_type": "markdown",
   "id": "cd40cf96-2170-4e24-b515-24b7ffe7e5aa",
   "metadata": {},
   "source": [
    "# --- Day 4: Camp Cleanup ---\n",
    "Space needs to be cleared before the last supplies can be unloaded from the ships, and so several Elves have been assigned the job of cleaning up sections of the camp. Every section has a unique __ID number__, and each Elf is assigned a range of section IDs.\n",
    "\n",
    "However, as some of the Elves compare their section assignments with each other, they've noticed that many of the assignments overlap. To try to quickly find overlaps and reduce duplicated effort, the Elves pair up and make a __big list of the section assignments for each pair__ (your puzzle input).\n",
    "\n",
    "For example, consider the following list of section assignment pairs:\n",
    "\n",
    "` 2-4,6-8`   \n",
    "` 2-3,4-5`   \n",
    "` 5-7,7-9`   \n",
    "` 2-8,3-7`   \n",
    "` 6-6,4-6`   \n",
    "` 2-6,4-8`   \n",
    "   \n",
    "For the first few pairs, this list means:\n",
    "\n",
    "Within the first pair of Elves, the first Elf was assigned sections 2-4 (sections 2, 3, and 4), while the second Elf was assigned sections 6-8 (sections 6, 7, 8).\n",
    "The Elves in the second pair were each assigned two sections.\n",
    "The Elves in the third pair were each assigned three sections: one got sections 5, 6, and 7, while the other also got 7, plus 8 and 9.\n",
    "This example list uses single-digit section IDs to make it easier to draw; your actual list might contain larger numbers. Visually, these pairs of section assignments look like this:\n",
    "\n",
    "`.234.....  2-4`   \n",
    "`.....678.  6-8`   \n",
    "\n",
    "`.23......  2-3`   \n",
    "`...45....  4-5`   \n",
    "\n",
    "`....567..  5-7`   \n",
    "`......789  7-9`   \n",
    "\n",
    "`.2345678.  2-8`   \n",
    "`..34567..  3-7`   \n",
    "\n",
    "`.....6...  6-6`   \n",
    "`...456...  4-6`   \n",
    "\n",
    "`.23456...  2-6`   \n",
    "`...45678.  4-8`   \n",
    "\n",
    "Some of the pairs have noticed that one of their assignments __fully contains__ the other. For example, 2-8 fully contains 3-7, and 6-6 is fully contained by 4-6. In pairs where one assignment fully contains the other, one Elf in the pair would be exclusively cleaning sections their partner will already be cleaning, so these seem like the most in need of reconsideration. In this example, there are 2 such pairs.\n",
    "\n",
    "__In how many assignment pairs does one range fully contain the other?__"
   ]
  },
  {
   "cell_type": "code",
   "execution_count": 1,
   "id": "6c84890e-ecef-48cd-9e67-225e06535e2c",
   "metadata": {},
   "outputs": [],
   "source": [
    "d = \"\"\"2-4,6-8\n",
    "2-3,4-5\n",
    "5-7,7-9\n",
    "2-8,3-7\n",
    "6-6,4-6\n",
    "2-6,4-8\"\"\""
   ]
  },
  {
   "cell_type": "code",
   "execution_count": 10,
   "id": "ea04ba1d-137a-4d23-b500-2e0014565639",
   "metadata": {},
   "outputs": [],
   "source": [
    "def solvePuzzle(txt):\n",
    "    areas = txt.split(\"\\n\")\n",
    "    n = 0\n",
    "    n2 = 0\n",
    "\n",
    "    for area in areas:\n",
    "        a1, a2 = area.split(\",\")\n",
    "        a1Start, a1End = map(int, a1.split(\"-\"))\n",
    "        a2Start, a2End = map(int, a2.split(\"-\"))\n",
    "    \n",
    "        if (a1Start <= a2Start and a2End <= a1End) or (a2Start <= a1Start and a1End <= a2End):\n",
    "            n += 1\n",
    "        \n",
    "        if set(range(a1Start, a1End + 1)) & set(range(a2Start, a2End + 1)):\n",
    "            n2 += 1\n",
    "\n",
    "\n",
    "    return n, n2"
   ]
  },
  {
   "cell_type": "code",
   "execution_count": 11,
   "id": "d022dae8-491a-4f31-8b34-b94d998b13b9",
   "metadata": {},
   "outputs": [
    {
     "data": {
      "text/plain": [
       "(2, 4)"
      ]
     },
     "execution_count": 11,
     "metadata": {},
     "output_type": "execute_result"
    }
   ],
   "source": [
    "solvePuzzle(d)"
   ]
  },
  {
   "cell_type": "markdown",
   "id": "a5caeb27-9917-46b6-9d7a-944bcf3a3b51",
   "metadata": {},
   "source": [
    "## Run real data through the above"
   ]
  },
  {
   "cell_type": "code",
   "execution_count": 13,
   "id": "3635202f-b564-41ad-ad93-605e4a0e077a",
   "metadata": {},
   "outputs": [],
   "source": [
    "file = \"challenge 04 input.txt\"\n",
    "with open(file) as f:\n",
    "    challenge4Data = f.read()"
   ]
  },
  {
   "cell_type": "code",
   "execution_count": 14,
   "id": "c25550a4-e22d-42e0-8628-ad721b790943",
   "metadata": {},
   "outputs": [
    {
     "data": {
      "text/plain": [
       "(498, 859)"
      ]
     },
     "execution_count": 14,
     "metadata": {},
     "output_type": "execute_result"
    }
   ],
   "source": [
    "solvePuzzle(challenge4Data)"
   ]
  }
 ],
 "metadata": {
  "kernelspec": {
   "display_name": "Python 3",
   "language": "python",
   "name": "python3"
  },
  "language_info": {
   "codemirror_mode": {
    "name": "ipython",
    "version": 3
   },
   "file_extension": ".py",
   "mimetype": "text/x-python",
   "name": "python",
   "nbconvert_exporter": "python",
   "pygments_lexer": "ipython3",
   "version": "3.9.1"
  }
 },
 "nbformat": 4,
 "nbformat_minor": 5
}
